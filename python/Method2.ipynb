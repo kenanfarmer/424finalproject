{
 "cells": [
  {
   "cell_type": "markdown",
   "metadata": {},
   "source": [
    "# Imports"
   ]
  },
  {
   "cell_type": "code",
   "execution_count": 63,
   "metadata": {},
   "outputs": [
    {
     "ename": "ImportError",
     "evalue": "cannot import name Frozenset",
     "output_type": "error",
     "traceback": [
      "\u001b[0;31m---------------------------------------------------------------------------\u001b[0m",
      "\u001b[0;31mImportError\u001b[0m                               Traceback (most recent call last)",
      "\u001b[0;32m<ipython-input-63-2e28c89bb038>\u001b[0m in \u001b[0;36m<module>\u001b[0;34m()\u001b[0m\n\u001b[1;32m      3\u001b[0m \u001b[0;32mimport\u001b[0m \u001b[0mpandas\u001b[0m \u001b[0;32mas\u001b[0m \u001b[0mpd\u001b[0m\u001b[0;34m\u001b[0m\u001b[0m\n\u001b[1;32m      4\u001b[0m \u001b[0;32mfrom\u001b[0m \u001b[0mcollections\u001b[0m \u001b[0;32mimport\u001b[0m \u001b[0mCounter\u001b[0m\u001b[0;34m,\u001b[0m \u001b[0mdefaultdict\u001b[0m\u001b[0;34m\u001b[0m\u001b[0m\n\u001b[0;32m----> 5\u001b[0;31m \u001b[0;32mfrom\u001b[0m \u001b[0msets\u001b[0m \u001b[0;32mimport\u001b[0m \u001b[0mFrozenset\u001b[0m\u001b[0;34m\u001b[0m\u001b[0m\n\u001b[0m\u001b[1;32m      6\u001b[0m \u001b[0;32mfrom\u001b[0m \u001b[0mdatetime\u001b[0m \u001b[0;32mimport\u001b[0m \u001b[0mdatetime\u001b[0m\u001b[0;34m\u001b[0m\u001b[0m\n",
      "\u001b[0;31mImportError\u001b[0m: cannot import name Frozenset"
     ]
    }
   ],
   "source": [
    "import spacy\n",
    "from spacy.tokens.doc import Doc\n",
    "import pandas as pd\n",
    "from collections import Counter, defaultdict\n",
    "# from sets import Frozenset\n",
    "from datetime import datetime"
   ]
  },
  {
   "cell_type": "code",
   "execution_count": 4,
   "metadata": {
    "collapsed": true
   },
   "outputs": [],
   "source": [
    "nlp = spacy.load('en')"
   ]
  },
  {
   "cell_type": "code",
   "execution_count": 5,
   "metadata": {
    "collapsed": true
   },
   "outputs": [],
   "source": [
    "test_loc = 'test_dump.bin'\n",
    "train_loc = 'train_dump.bin'"
   ]
  },
  {
   "cell_type": "markdown",
   "metadata": {},
   "source": [
    "# Read data"
   ]
  },
  {
   "cell_type": "code",
   "execution_count": 7,
   "metadata": {},
   "outputs": [
    {
     "name": "stdout",
     "output_type": "stream",
     "text": [
      "(404290, 6) (2345796, 3)\n"
     ]
    }
   ],
   "source": [
    "train = pd.read_csv('../data/train.csv').fillna('')\n",
    "test = pd.read_csv('../data/test.csv').fillna('')\n",
    "print train.shape, test.shape"
   ]
  },
  {
   "cell_type": "markdown",
   "metadata": {},
   "source": [
    "# Write training questions\n",
    "In the order they appear, not the order of their ids"
   ]
  },
  {
   "cell_type": "code",
   "execution_count": 46,
   "metadata": {
    "collapsed": true
   },
   "outputs": [
    {
     "name": "stdout",
     "output_type": "stream",
     "text": [
      "0 What is the step by step guide to invest in share market?\n",
      "10000 Is it safe for a woman to travel alone in Japan?\n",
      "20000 What triggers you the most when you play video games?\n",
      "30000 Is domino's pizza halal?\n",
      "40000 How should I start learning Python for Data Science?\n",
      "50000 Why is cloning considered unethical?\n",
      "60000 How do you get rid of a virus on an iPhone?\n",
      "70000 What are some teenage cake ideas?\n",
      "80000 How do I recover deleted files on an Android phone or tablet?\n",
      "90000 Which are the best Hollywood movies of 2016?\n",
      "100000 What is the process of getting a surgical residency in UK after completing MBBS from India?\n",
      "110000 How do I become an entrepreneur?\n",
      "120000 How can I become a billionaire?\n",
      "130000 What is it like to grow up in Japan, SIngapore and Hong Kong?\n",
      "140000 Which is a good car in the range of 2-3lacs on Delhi road?\n",
      "150000 How do I grow my hair really fast and easiest way?\n",
      "160000 What are the career options after graduating with a B.A. in philosophy?\n",
      "170000 Is welfare a citizenship right?\n",
      "180000 How do you find a Spiritual Guru?\n",
      "190000 What is the best SEO management company in India?\n",
      "200000 Can Pakistan destroy an Indian aircraft carrier during a war?\n",
      "210000 What does it look like when someone blocks you on badoo?\n",
      "220000 How do I best way to get over an ex?\n",
      "230000 Taking meth through the rectal, is it a better high?\n",
      "240000 What's the evil truth of life?\n",
      "250000 Who would win a war out of the United States and Russia?\n",
      "260000 What is that one incident that changed your life for better?\n",
      "270000 Which movie had the first same-sex kiss?\n",
      "280000 How is the word 'although' used in a sentence?\n",
      "290000 How will abolishing Rs. 500 and Rs. 1000 notes affect the real estate businesses in India?\n",
      "300000 What is the difference between neural circuit and neural system?\n",
      "310000 What is the poorest country in Asia, and how does its death rate compare to the poorest country in Oceania?\n",
      "320000 What is the most technologically advanced credit union in San Francisco?\n",
      "330000 Which teams are likely to win EPL 2016_2017?\n",
      "340000 What if you want to do everything?\n",
      "350000 How can you give dogs Benadryl to calm them down?\n",
      "360000 What does the typical Finnish house look like?\n",
      "370000 Does Israel have a movie industry?\n",
      "380000 How do I compare Albuquerque New Mexico to Phoenix AZ?\n",
      "390000 What should I gift to my girlfriend for Christmas?\n",
      "400000 Can WordPress be used to create a site like Reddit?\n"
     ]
    }
   ],
   "source": [
    "# with open(train_loc, 'wb') as file_:\n",
    "#     for idx, question in enumerate(train_array):\n",
    "#         if idx % 10000 == 0: print(idx, question)\n",
    "#         file_.write(nlp(question.decode('utf-8')).to_bytes())\n",
    "with open(train_loc, 'wb') as file_:\n",
    "    for i in range(len(train)):\n",
    "        f = train.loc[i]\n",
    "        if i % 10000 == 0: print i, f['question2']\n",
    "        file_.write(nlp(f['question1'].decode('utf-8')).to_bytes())\n",
    "        file_.write(nlp(f['question2'].decode('utf-8')).to_bytes())"
   ]
  },
  {
   "cell_type": "markdown",
   "metadata": {},
   "source": [
    "# Read training data\n",
    "Elements $(2n, 2n+1)$ are the questions for pair $n$"
   ]
  },
  {
   "cell_type": "code",
   "execution_count": 6,
   "metadata": {},
   "outputs": [
    {
     "name": "stdout",
     "output_type": "stream",
     "text": [
      "2017-05-14 05:21:53\n",
      "0 2017-05-14 05:21:53\n",
      "10000 2017-05-14 05:21:58\n",
      "20000 2017-05-14 05:21:59\n",
      "30000 2017-05-14 05:22:01\n",
      "40000 2017-05-14 05:22:02\n",
      "50000 2017-05-14 05:22:03\n",
      "60000 2017-05-14 05:22:05\n",
      "70000 2017-05-14 05:22:07\n",
      "80000 2017-05-14 05:22:09\n",
      "90000 2017-05-14 05:22:11\n",
      "100000 2017-05-14 05:22:13\n",
      "110000 2017-05-14 05:22:15\n",
      "120000 2017-05-14 05:22:16\n",
      "130000 2017-05-14 05:22:18\n",
      "140000 2017-05-14 05:22:19\n",
      "150000 2017-05-14 05:22:20\n",
      "160000 2017-05-14 05:22:22\n",
      "170000 2017-05-14 05:22:24\n",
      "180000 2017-05-14 05:22:27\n",
      "190000 2017-05-14 05:22:29\n",
      "200000 2017-05-14 05:22:32\n",
      "210000 2017-05-14 05:22:34\n",
      "220000 2017-05-14 05:22:35\n",
      "230000 2017-05-14 05:22:36\n",
      "240000 2017-05-14 05:22:38\n",
      "250000 2017-05-14 05:22:39\n",
      "260000 2017-05-14 05:22:41\n",
      "270000 2017-05-14 05:22:42\n",
      "280000 2017-05-14 05:22:43\n",
      "290000 2017-05-14 05:22:45\n",
      "300000 2017-05-14 05:22:46\n",
      "310000 2017-05-14 05:22:47\n",
      "320000 2017-05-14 05:22:48\n",
      "330000 2017-05-14 05:22:50\n",
      "340000 2017-05-14 05:22:51\n",
      "350000 2017-05-14 05:22:53\n",
      "360000 2017-05-14 05:22:54\n",
      "370000 2017-05-14 05:22:56\n",
      "380000 2017-05-14 05:22:57\n",
      "390000 2017-05-14 05:22:58\n",
      "400000 2017-05-14 05:23:00\n",
      "410000 2017-05-14 05:23:01\n",
      "420000 2017-05-14 05:23:03\n",
      "430000 2017-05-14 05:23:04\n",
      "440000 2017-05-14 05:23:05\n",
      "450000 2017-05-14 05:23:06\n",
      "460000 2017-05-14 05:23:08\n",
      "470000 2017-05-14 05:23:09\n",
      "480000 2017-05-14 05:23:10\n",
      "490000 2017-05-14 05:23:11\n",
      "500000 2017-05-14 05:23:12\n",
      "510000 2017-05-14 05:23:13\n",
      "520000 2017-05-14 05:23:14\n",
      "530000 2017-05-14 05:23:16\n",
      "540000 2017-05-14 05:23:18\n",
      "550000 2017-05-14 05:23:19\n",
      "560000 2017-05-14 05:23:20\n",
      "570000 2017-05-14 05:23:21\n",
      "580000 2017-05-14 05:23:23\n",
      "590000 2017-05-14 05:23:24\n",
      "600000 2017-05-14 05:23:26\n",
      "610000 2017-05-14 05:23:27\n",
      "620000 2017-05-14 05:23:28\n",
      "630000 2017-05-14 05:23:29\n",
      "640000 2017-05-14 05:23:30\n",
      "650000 2017-05-14 05:23:31\n",
      "660000 2017-05-14 05:23:32\n",
      "670000 2017-05-14 05:23:34\n",
      "680000 2017-05-14 05:23:35\n",
      "690000 2017-05-14 05:23:36\n",
      "700000 2017-05-14 05:23:37\n",
      "710000 2017-05-14 05:23:38\n",
      "720000 2017-05-14 05:23:39\n",
      "730000 2017-05-14 05:23:40\n",
      "740000 2017-05-14 05:23:41\n",
      "750000 2017-05-14 05:23:42\n",
      "760000 2017-05-14 05:23:43\n",
      "770000 2017-05-14 05:23:44\n",
      "780000 2017-05-14 05:23:45\n",
      "790000 2017-05-14 05:23:46\n",
      "800000 2017-05-14 05:23:47\n",
      "2017-05-14 05:23:48\n",
      "<type 'spacy.tokens.doc.Doc'>\n"
     ]
    }
   ],
   "source": [
    "docs = []\n",
    "i = 0\n",
    "print datetime.now().strftime('%Y-%m-%d %H:%M:%S')\n",
    "with open(train_loc, 'rb') as file_:\n",
    "    for byte_string in Doc.read_bytes(file_):\n",
    "        if i%10000 == 0: print i, datetime.now().strftime('%Y-%m-%d %H:%M:%S')\n",
    "        docs.append(Doc(nlp.vocab).from_bytes(byte_string))\n",
    "        i += 1\n",
    "#         if i == 10: break\n",
    "print datetime.now().strftime('%Y-%m-%d %H:%M:%S')\n",
    "print(type(docs[0]))"
   ]
  },
  {
   "cell_type": "code",
   "execution_count": 8,
   "metadata": {},
   "outputs": [
    {
     "name": "stdout",
     "output_type": "stream",
     "text": [
      "[(u'I', u'-PRON-'), (u'am', u'be'), (u'financially', u'financially'), (u'stuck', u'stuck'), (u'in', u'in'), (u'a', u'a'), (u'half', u'half'), (u'baked', u'baked'), (u'relationship', u'relationship'), (u'.', u'.'), (u'Can', u'can'), (u'someone', u'someone'), (u'help', u'help'), (u',', u','), (u'how', u'how'), (u'can', u'can'), (u'I', u'-PRON-'), (u'get', u'get'), (u'out', u'out'), (u'of', u'of'), (u'this', u'this'), (u'?', u'?')]\n"
     ]
    },
    {
     "data": {
      "text/plain": [
       "[]"
      ]
     },
     "execution_count": 8,
     "metadata": {},
     "output_type": "execute_result"
    }
   ],
   "source": [
    "# print(docs[23986])\n",
    "# for word in docs[23986]:\n",
    "#     print(word.lemma_)\n",
    "    \n",
    "d = docs[23990]\n",
    "print([(word.orth_, word.lemma_) for word in d])\n",
    "list(d.ents)\n",
    "# print(Counter([(token.orth_, token.pos_, token.lemma_) for token in d]))"
   ]
  },
  {
   "cell_type": "code",
   "execution_count": 54,
   "metadata": {
    "collapsed": true
   },
   "outputs": [],
   "source": [
    "def covertPropn(pos):\n",
    "    if pos == u'PROPN':\n",
    "        return u'NOUN'\n",
    "    else: return pos"
   ]
  },
  {
   "cell_type": "code",
   "execution_count": 79,
   "metadata": {},
   "outputs": [
    {
     "name": "stdout",
     "output_type": "stream",
     "text": [
      "(What is the step by step guide to invest in share market in india?, What is the step by step guide to invest in share market?)\n",
      "{'sameents': 0, u'NOUN': 4, 'samenum': 6, 'diffents': 0, 'diffnum': 1, u'PUNCT': 1, u'VERB': 1, u'NOUN_d': 1}\n",
      "(What is the story of Kohinoor (Koh-i-Noor) Diamond?, What would happen if the Indian government stole the Kohinoor (Koh-i-Noor) diamond back?)\n",
      "{'sameents': 2, u'NOUN': 4, 'samenum': 8, u'ADJ_d': 1, u'VERB_d': 2, 'diffents': 1, 'diffnum': 5, u'PUNCT': 4, u'NOUN_d': 2}\n",
      "(How can I increase the speed of my internet connection while using a VPN?, How can Internet speed be increased by hacking through DNS?)\n",
      "{'sameents': 0, u'PRON_d': 1, u'NOUN': 1, 'samenum': 3, u'VERB_d': 1, 'diffents': 2, 'diffnum': 6, u'PUNCT': 1, u'VERB': 1, u'NOUN_d': 4}\n",
      "(Why am I mentally very lonely? How can I solve it?, Find the remainder when [math]23^{24}[/math] is divided by 24,23?)\n",
      "{'sameents': 0, u'ADV_d': 1, 'samenum': 1, u'ADJ_d': 1, u'VERB_d': 3, u'PUNCT_d': 2, u'NUM_d': 1, 'diffents': 1, 'diffnum': 10, u'PUNCT': 1, u'NOUN_d': 2}\n",
      "(Which one dissolve in water quikly sugar, salt, methane and carbon di oxide?, Which fish would survive in salt water?)\n",
      "{'sameents': 0, u'X_d': 1, u'NOUN': 2, 'samenum': 3, u'ADJ_d': 1, u'PUNCT_d': 1, u'VERB_d': 2, 'diffents': 0, 'diffnum': 10, u'PUNCT': 1, u'NOUN_d': 5}\n",
      "(Astrology: I am a Capricorn Sun Cap moon and cap rising...what does that say about me?, I'm a triple Capricorn (Sun, Moon and ascendant in Capricorn) What does this say about me?)\n",
      "{'sameents': 0, u'NOUN': 3, 'samenum': 4, u'ADJ_d': 2, u'PUNCT_d': 5, u'VERB_d': 2, 'diffents': 4, 'diffnum': 11, u'PUNCT': 1, u'NOUN_d': 2}\n",
      "(Should I buy tiago?, What keeps childern active and far from phone and video games?)\n",
      "{'sameents': 0, u'ADV_d': 2, 'samenum': 1, u'ADJ_d': 2, u'VERB_d': 2, 'diffents': 0, 'diffnum': 9, u'PUNCT': 1, u'NOUN_d': 3}\n",
      "(How can I be a good geologist?, What should I do to be a great geologist?)\n",
      "{'sameents': 0, u'NOUN': 1, 'samenum': 2, u'ADJ_d': 2, 'diffents': 0, 'diffnum': 2, u'PUNCT': 1}\n",
      "(When do you use シ instead of し?, When do you use \"&\" instead of \"and\"?)\n",
      "{'sameents': 0, u'ADV': 1, u'PRON_d': 1, 'samenum': 3, u'PUNCT_d': 1, 'diffents': 0, 'diffnum': 4, u'PUNCT': 1, u'VERB': 1, u'CCONJ_d': 1, u'NOUN_d': 1}\n",
      "(Motorola (company): Can I hack my Charter Motorolla DCX3400?, How do I hack Motorola DCX3400 for free internet?)\n",
      "{'sameents': 1, u'NOUN': 2, 'samenum': 4, u'ADJ_d': 1, u'PUNCT_d': 3, 'diffents': 1, 'diffnum': 8, u'PUNCT': 1, u'VERB': 1, u'NOUN_d': 4}\n",
      "(Method to find separation of slits using fresnel biprism?, What are some of the things technicians can tell about the durability and reliability of Laptops and its components?)\n",
      "{'sameents': 0, u'PUNCT': 1, 'samenum': 1, 'diffnum': 13, u'NOUN_d': 11, u'VERB_d': 2, 'diffents': 0}\n",
      "(How do I read and find my YouTube comments?, How can I see all my Youtube comments?)\n",
      "{'sameents': 0, u'NOUN': 2, 'samenum': 3, u'VERB_d': 2, 'diffents': 1, 'diffnum': 2, u'PUNCT': 1}\n",
      "(What can make Physics easy to learn?, How can you make physics easy to learn?)\n",
      "{'sameents': 0, u'PUNCT': 1, u'VERB': 1, u'NOUN': 1, 'samenum': 4, 'diffnum': 0, u'ADJ': 1, 'diffents': 1}\n",
      "(What was your first sexual experience like?, What was your first sexual experience?)\n",
      "{'sameents': 1, u'NOUN': 1, 'samenum': 3, u'ADP_d': 1, 'diffents': 0, 'diffnum': 1, u'PUNCT': 1, u'ADJ': 1}\n",
      "(What are the laws to change your status from a student visa to a green card in the US, how do they compare to the immigration laws in Canada?, What are the laws to change your status from a student visa to a green card in the US? How do they compare to the immigration laws in Japan?)\n",
      "{'sameents': 1, u'PUNCT': 1, u'VERB': 2, u'NOUN': 6, 'samenum': 10, 'diffnum': 3, u'PUNCT_d': 1, u'NOUN_d': 2, u'ADJ': 1, 'diffents': 2}\n",
      "(What would a Trump presidency mean for current international master’s students on an F1 visa?, How will a Trump presidency affect the students presently in US or planning to study in US?)\n",
      "{'sameents': 1, u'ADV_d': 1, u'NOUN': 3, 'samenum': 4, u'ADJ_d': 2, u'VERB_d': 3, u'NUM_d': 1, 'diffents': 1, 'diffnum': 11, u'PUNCT': 1, u'NOUN_d': 4}\n",
      "(What does manipulation mean?, What does manipulation means?)\n",
      "{'sameents': 0, u'NOUN': 1, 'samenum': 3, 'diffents': 0, 'diffnum': 0, u'PUNCT': 1, u'VERB': 1}\n",
      "(Why do girls want to be friends with the guy they reject?, How do guys feel after rejecting a girl?)\n",
      "{'sameents': 0, u'NOUN': 2, 'samenum': 4, u'VERB_d': 2, 'diffents': 0, 'diffnum': 3, u'PUNCT': 1, u'VERB': 1, u'NOUN_d': 1}\n",
      "(Why are so many Quora users posting questions that are readily answered on Google?, Why do people ask Quora questions which can be answered easily by Google?)\n",
      "{'sameents': 2, u'ADV_d': 2, u'NOUN': 3, 'samenum': 5, u'VERB_d': 2, 'diffents': 0, 'diffnum': 6, u'PUNCT': 1, u'VERB': 1, u'NOUN_d': 2}\n",
      "(Which is the best digital marketing institution in banglore?, Which is the best digital marketing institute in Pune?)\n",
      "{'sameents': 0, u'NOUN': 1, 'samenum': 4, 'diffents': 1, 'diffnum': 4, u'PUNCT': 1, u'ADJ': 2, u'NOUN_d': 4}\n",
      "(Why do rockets look white?, Why are rockets and boosters painted white?)\n",
      "{'sameents': 0, u'NOUN': 1, 'samenum': 3, u'VERB_d': 2, 'diffents': 0, 'diffnum': 3, u'PUNCT': 1, u'ADJ': 1, u'NOUN_d': 1}\n",
      "(What's causing someone to be jealous?, What can I do to avoid being jealous of someone?)\n",
      "{'sameents': 0, 'samenum': 2, u'VERB_d': 3, 'diffents': 0, 'diffnum': 3, u'PUNCT': 1, u'ADJ': 1}\n",
      "(What are the questions should not ask on Quora?, Which question should I ask on Quora?)\n",
      "{'sameents': 1, u'NOUN': 2, 'samenum': 4, 'diffents': 0, 'diffnum': 0, u'PUNCT': 1, u'VERB': 1}\n",
      "(How much is 30 kV in HP?, Where can I find a conversion chart for CC to horsepower?)\n",
      "{'sameents': 0, 'samenum': 1, u'VERB_d': 1, u'NUM_d': 1, 'diffents': 2, 'diffnum': 8, u'PUNCT': 1, u'NOUN_d': 6}\n",
      "(What does it mean that every time I look at the clock the numbers are the same?, How many times a day do a clock’s hands overlap?)\n",
      "{'sameents': 0, u'NOUN': 2, 'samenum': 3, u'VERB_d': 3, u'PART_d': 1, 'diffents': 0, 'diffnum': 7, u'PUNCT': 1, u'NOUN_d': 3}\n",
      "(What are some tips on making it through the job interview process at Medicines?, What are some tips on making it through the job interview process at Foundation Medicine?)\n",
      "{'sameents': 0, u'NOUN': 4, 'samenum': 6, 'diffents': 2, 'diffnum': 3, u'PUNCT': 1, u'VERB': 1, u'NOUN_d': 3}\n",
      "(What is web application?, What is the web application framework?)\n",
      "{'sameents': 0, u'NOUN': 2, 'samenum': 3, 'diffents': 0, 'diffnum': 1, u'PUNCT': 1, u'NOUN_d': 1}\n",
      "(Does society place too much importance on sports?, How do sports contribute to the society?)\n",
      "{'sameents': 0, u'NOUN': 2, 'samenum': 3, u'VERB_d': 1, 'diffents': 0, 'diffnum': 3, u'PUNCT': 1, u'NOUN_d': 2}\n",
      "(What is best way to make money online?, What is best way to ask for money online?)\n",
      "{'sameents': 0, u'ADV': 1, u'NOUN': 2, 'samenum': 5, u'PUNCT': 1, 'diffnum': 1, u'VERB_d': 1, u'ADJ': 1, 'diffents': 0}\n",
      "(How should I prepare for CA final law?, How one should know that he/she completely prepare for CA final exam?)\n",
      "{'sameents': 1, u'ADV_d': 1, 'samenum': 3, u'SYM_d': 1, u'VERB_d': 1, 'diffents': 0, 'diffnum': 5, u'PUNCT': 1, u'VERB': 1, u'ADJ': 1, u'NOUN_d': 2}\n",
      "(What's one thing you would like to do better?, What's one thing you do despite knowing better?)\n",
      "{'sameents': 1, u'PUNCT': 1, u'VERB': 1, u'NOUN': 1, 'samenum': 4, u'ADP_d': 1, 'diffnum': 3, u'VERB_d': 2, u'ADJ': 1, 'diffents': 0}\n",
      "(What are some special cares for someone with a nose that gets stuffy during the night?, How can I keep my nose from getting stuffy at night?)\n",
      "{'sameents': 0, u'PUNCT': 1, u'VERB': 1, u'NOUN': 2, 'samenum': 5, u'ADJ_d': 1, 'diffnum': 2, u'NOUN_d': 1, u'ADJ': 1, 'diffents': 1}\n",
      "(What Game of Thrones villain would be the most likely to give you mercy?, What Game of Thrones villain would you most like to be at the mercy of?)\n",
      "{'sameents': 0, u'NOUN': 4, 'samenum': 5, u'ADJ_d': 1, u'VERB_d': 1, 'diffents': 0, 'diffnum': 2, u'PUNCT': 1}\n",
      "(Does the United States government still blacklist (employment, etc.) some United States citizens because their political views?, How is the average speed of gas molecules determined?)\n",
      "{'sameents': 0, 'samenum': 1, u'ADJ_d': 2, u'PUNCT_d': 4, u'VERB_d': 1, 'diffents': 2, 'diffnum': 17, u'PUNCT': 1, u'NOUN_d': 10}\n",
      "(What is the best travel website in spain?, What is the best travel website?)\n",
      "{'sameents': 0, u'NOUN': 2, 'samenum': 4, 'diffents': 1, 'diffnum': 1, u'PUNCT': 1, u'ADJ': 1, u'NOUN_d': 1}\n",
      "(Why do some people think Obama will try to take their guns away?, Has there been a gun control initiative to take away guns people already own?)\n",
      "{'sameents': 0, u'ADV': 1, u'NOUN': 2, 'samenum': 4, u'VERB_d': 2, 'diffents': 1, 'diffnum': 5, u'PUNCT': 1, u'NOUN_d': 3}\n",
      "(I'm a 19-year-old. How can I improve my skills or what should I do to become an entrepreneur in the next few years?, I am a 19 year old guy. How can I become a billionaire in the next 10 years?)\n",
      "{'sameents': 0, u'NOUN': 1, 'samenum': 4, u'ADJ_d': 1, u'NUM_d': 2, u'PUNCT_d': 1, u'VERB_d': 2, 'diffents': 4, 'diffnum': 10, u'PUNCT': 2, u'ADJ': 1, u'NOUN_d': 4}\n",
      "(When a girlfriend asks her boyfriend \"Why did you choose me? What makes you want to be with me?\", what should one reply to her?, My girlfriend said that we should end this because she is confused about her feelings for me. I wished her well and disconnected. Should I call her and ask her if she wants to get back together?)\n",
      "{'sameents': 0, u'NOUN': 1, 'samenum': 4, u'ADJ_d': 2, u'PUNCT_d': 3, u'VERB_d': 5, 'diffents': 1, 'diffnum': 13, u'PUNCT': 1, u'VERB': 2, u'NOUN_d': 3}\n",
      "(How do we prepare for UPSC?, How do I prepare for civil service?)\n",
      "{'sameents': 0, 'samenum': 2, u'ADJ_d': 1, 'diffents': 1, 'diffnum': 3, u'PUNCT': 1, u'VERB': 1, u'NOUN_d': 2}\n",
      "(What is the stall speed and AOA of an f-14 with wings fully swept back?, Why did aircraft stop using variable-sweep wings, like those on an F-14?)\n",
      "{'sameents': 0, u'ADV_d': 1, u'NOUN': 2, 'samenum': 3, u'ADJ_d': 1, u'PUNCT_d': 2, u'VERB_d': 1, 'diffents': 0, 'diffnum': 12, u'PUNCT': 1, u'ADP_d': 1, u'NOUN_d': 6}\n",
      "(Why do Slavs squat?, Will squats make my legs thicker?)\n",
      "{'sameents': 0, 'samenum': 1, u'ADJ_d': 1, u'VERB_d': 2, 'diffents': 0, 'diffnum': 5, u'PUNCT': 1, u'NOUN_d': 2}\n",
      "(When can I expect my Cognizant confirmation mail?, When can I expect Cognizant confirmation mail?)\n",
      "{'sameents': 0, u'PUNCT': 1, u'VERB': 1, u'NOUN': 2, 'samenum': 5, 'diffnum': 0, u'ADJ': 1, 'diffents': 0}\n",
      "(Can I make 50,000 a month by day trading?, Can I make 30,000 a month by day trading?)\n",
      "{'sameents': 1, u'NOUN': 3, 'samenum': 4, u'NUM_d': 2, 'diffents': 2, 'diffnum': 2, u'PUNCT': 1}\n",
      "(Is being a good kid and not being a rebel worth it in the long run?, Is being bored good for a kid?)\n",
      "{'sameents': 0, u'NOUN': 1, 'samenum': 3, u'ADJ_d': 1, u'VERB_d': 1, 'diffents': 0, 'diffnum': 5, u'PUNCT': 1, u'ADJ': 1, u'NOUN_d': 3}\n",
      "(What universities does Rexnord recruit new grads from? What majors are they looking for?, What universities does B&G Foods recruit new grads from? What majors are they looking for?)\n",
      "{'sameents': 0, u'PUNCT': 1, u'VERB': 2, u'NOUN': 3, 'samenum': 7, 'diffnum': 3, u'NOUN_d': 3, u'ADJ': 1, 'diffents': 2}\n",
      "(What is the quickest way to increase Instagram followers?, How can we increase our number of Instagram followers?)\n",
      "{'sameents': 1, u'NOUN': 2, 'samenum': 4, u'ADJ_d': 1, 'diffents': 0, 'diffnum': 3, u'PUNCT': 1, u'VERB': 1, u'NOUN_d': 2}\n",
      "(How did Darth Vader fought Darth Maul in Star Wars Legends?, Does Quora have a character limit for profile descriptions?)\n",
      "{'sameents': 0, u'PUNCT': 1, 'samenum': 1, 'diffnum': 12, u'NOUN_d': 11, u'VERB_d': 1, 'diffents': 3}\n",
      "(What are the stages of breaking up between couple? I mean, what happens after the breaking up emotionally whether its a male or female?, Who is affected more by a breakup, the boy or the girl?)\n",
      "{'sameents': 0, u'ADV_d': 1, 'samenum': 2, u'ADJ_d': 2, u'VERB_d': 4, 'diffents': 0, 'diffnum': 13, u'PUNCT': 2, u'NOUN_d': 6}\n",
      "(What are some examples of products that can be make from crude oil?, What are some of the products made from crude oil?)\n",
      "{'sameents': 0, u'NOUN': 2, 'samenum': 4, 'diffents': 0, 'diffnum': 1, u'PUNCT': 1, u'ADJ': 1, u'NOUN_d': 1}\n",
      "(How do I make friends., How to make friends ?)\n",
      "{'sameents': 0, 'diffnum': 2, u'NOUN': 1, 'samenum': 1, u'PUNCT_d': 2, 'diffents': 0}\n",
      "(Is Career Launcher good for RBI Grade B preparation?, How is career launcher online program for RBI Grade B?)\n",
      "{'sameents': 0, u'ADV_d': 1, u'NOUN': 4, 'samenum': 5, u'ADP_d': 1, u'ADJ_d': 2, 'diffents': 2, 'diffnum': 6, u'PUNCT': 1, u'NOUN_d': 2}\n",
      "(Will a Blu Ray play on a regular DVD player? If so, how?, How can you play a Blu Ray DVD on a regular DVD player?)\n",
      "{'sameents': 1, u'PUNCT': 1, u'VERB': 1, u'NOUN': 4, 'samenum': 7, 'diffnum': 1, u'PUNCT_d': 1, u'ADJ': 1, 'diffents': 0}\n"
     ]
    }
   ],
   "source": [
    "for i in range(0,len(docs),2):\n",
    "    fv = {}\n",
    "    d1 = docs[i]\n",
    "    d2 = docs[i+1]\n",
    "\n",
    "    s1 = set(list(str(e) for e in d1.ents))\n",
    "    s2 = set(list(str(e) for e in d2.ents))\n",
    "    \n",
    "    sameents = len(s1 & s2)\n",
    "    diffents = len(s1 ^ s2)\n",
    "    fv['sameents'] = sameents\n",
    "    fv['diffents'] = diffents\n",
    "    \n",
    "    s1 = set([(covertPropn(word.pos_), word.lemma_) for word in d1 if not word.is_stop])\n",
    "    s2 = set([(covertPropn(word.pos_), word.lemma_ ) for word in d2 if not word.is_stop])\n",
    "    diff = s1 ^ s2\n",
    "    same =  s1 & s2\n",
    "\n",
    "    samenum = len(same)\n",
    "    same = Counter([t[0] for t in same])\n",
    "    fv.update(same)\n",
    "    fv['samenum'] = samenum\n",
    "\n",
    "    diffnum = len(diff)\n",
    "    diff = Counter([t[0] + '_d' for t in diff])\n",
    "    fv['diffnum'] = diffnum\n",
    "    fv.update(diff)\n",
    "    \n",
    "    print(d1, d2)\n",
    "    print fv\n",
    "    if i > 100: break\n"
   ]
  },
  {
   "cell_type": "code",
   "execution_count": 46,
   "metadata": {},
   "outputs": [
    {
     "data": {
      "text/plain": [
       "Counter({'Capricorn': 2, 'Moon': 1, 'Sun': 1})"
      ]
     },
     "execution_count": 46,
     "metadata": {},
     "output_type": "execute_result"
    }
   ],
   "source": [
    "Counter(e2)"
   ]
  },
  {
   "cell_type": "code",
   "execution_count": 35,
   "metadata": {},
   "outputs": [
    {
     "data": {
      "text/plain": [
       "spacy.tokens.span.Span"
      ]
     },
     "execution_count": 35,
     "metadata": {},
     "output_type": "execute_result"
    }
   ],
   "source": [
    "type("
   ]
  },
  {
   "cell_type": "markdown",
   "metadata": {},
   "source": [
    "# Write test questions"
   ]
  },
  {
   "cell_type": "code",
   "execution_count": 54,
   "metadata": {},
   "outputs": [
    {
     "ename": "NameError",
     "evalue": "name 'test' is not defined",
     "output_type": "error",
     "traceback": [
      "\u001b[0;31m-----------------------------------------------------------\u001b[0m",
      "\u001b[0;31mNameError\u001b[0m                 Traceback (most recent call last)",
      "\u001b[0;32m<ipython-input-54-45b4f993b7b2>\u001b[0m in \u001b[0;36m<module>\u001b[0;34m()\u001b[0m\n\u001b[0;32m----> 1\u001b[0;31m \u001b[0;32mprint\u001b[0m \u001b[0mlen\u001b[0m\u001b[0;34m(\u001b[0m\u001b[0mtest\u001b[0m\u001b[0;34m)\u001b[0m\u001b[0;34m\u001b[0m\u001b[0m\n\u001b[0m\u001b[1;32m      2\u001b[0m \u001b[0;32mwith\u001b[0m \u001b[0mopen\u001b[0m\u001b[0;34m(\u001b[0m\u001b[0mtest_loc\u001b[0m\u001b[0;34m,\u001b[0m \u001b[0;34m'wb'\u001b[0m\u001b[0;34m)\u001b[0m \u001b[0;32mas\u001b[0m \u001b[0mfile_\u001b[0m\u001b[0;34m:\u001b[0m\u001b[0;34m\u001b[0m\u001b[0m\n\u001b[1;32m      3\u001b[0m     \u001b[0;32mfor\u001b[0m \u001b[0mi\u001b[0m \u001b[0;32min\u001b[0m \u001b[0mrange\u001b[0m\u001b[0;34m(\u001b[0m\u001b[0mlen\u001b[0m\u001b[0;34m(\u001b[0m\u001b[0mtest\u001b[0m\u001b[0;34m)\u001b[0m\u001b[0;34m)\u001b[0m\u001b[0;34m:\u001b[0m\u001b[0;34m\u001b[0m\u001b[0m\n\u001b[1;32m      4\u001b[0m         \u001b[0;32mif\u001b[0m \u001b[0mi\u001b[0m \u001b[0;34m%\u001b[0m \u001b[0;36m10000\u001b[0m \u001b[0;34m==\u001b[0m \u001b[0;36m0\u001b[0m\u001b[0;34m:\u001b[0m \u001b[0;32mprint\u001b[0m \u001b[0mi\u001b[0m\u001b[0;34m\u001b[0m\u001b[0m\n\u001b[1;32m      5\u001b[0m         \u001b[0mf\u001b[0m \u001b[0;34m=\u001b[0m \u001b[0mtest\u001b[0m\u001b[0;34m.\u001b[0m\u001b[0mloc\u001b[0m\u001b[0;34m[\u001b[0m\u001b[0mi\u001b[0m\u001b[0;34m]\u001b[0m\u001b[0;34m\u001b[0m\u001b[0m\n",
      "\u001b[0;31mNameError\u001b[0m: name 'test' is not defined"
     ]
    }
   ],
   "source": [
    "print len(test)\n",
    "with open(test_loc, 'wb') as file_:\n",
    "    for i in range(len(test)):\n",
    "        if i % 10000 == 0: print i\n",
    "        f = test.loc[i]\n",
    "        file_.write(nlp(f['question1'].decode('utf-8')).to_bytes())\n",
    "        file_.write(nlp(f['question2'].decode('utf-8')).to_bytes())"
   ]
  },
  {
   "cell_type": "markdown",
   "metadata": {},
   "source": [
    "# Read test questions"
   ]
  },
  {
   "cell_type": "code",
   "execution_count": 7,
   "metadata": {},
   "outputs": [
    {
     "name": "stdout",
     "output_type": "stream",
     "text": [
      "<type 'spacy.tokens.doc.Doc'>\n"
     ]
    }
   ],
   "source": [
    "test_docs = []\n",
    "i = 0\n",
    "with open(test_loc, 'rb') as file_:\n",
    "    for byte_string in Doc.read_bytes(file_):\n",
    "        test_docs.append(Doc(nlp.vocab).from_bytes(byte_string))\n",
    "        i += 1\n",
    "print(type(test_docs[0]))"
   ]
  },
  {
   "cell_type": "code",
   "execution_count": null,
   "metadata": {
    "collapsed": true
   },
   "outputs": [],
   "source": [
    "test_docs[1345288]"
   ]
  },
  {
   "cell_type": "code",
   "execution_count": null,
   "metadata": {
    "collapsed": true
   },
   "outputs": [],
   "source": [
    "testloc = 'test_serialize.bin'\n",
    "with open(testloc, 'wb') as file_:\n",
    "    file_.write(nlp(u'This is a document.').to_bytes())\n",
    "    file_.write(nlp(u'This is another.').to_bytes())"
   ]
  },
  {
   "cell_type": "code",
   "execution_count": 7,
   "metadata": {
    "collapsed": true
   },
   "outputs": [],
   "source": [
    "docs = []\n",
    "with open(testloc, 'rb') as file_:\n",
    "    for byte_string in Doc.read_bytes(file_):\n",
    "        docs.append(Doc(nlp.vocab).from_bytes(byte_string))\n",
    "assert len(docs) == 2"
   ]
  },
  {
   "cell_type": "code",
   "execution_count": 8,
   "metadata": {
    "collapsed": true
   },
   "outputs": [],
   "source": [
    "p = docs[0]"
   ]
  },
  {
   "cell_type": "code",
   "execution_count": 12,
   "metadata": {},
   "outputs": [
    {
     "data": {
      "text/plain": [
       "Counter({u'.': 1, u'a': 1, u'be': 1, u'document': 1, u'this': 1})"
      ]
     },
     "execution_count": 12,
     "metadata": {},
     "output_type": "execute_result"
    }
   ],
   "source": [
    "bow = []\n",
    "for word in p:\n",
    "#     if word.is_stop: continue\n",
    "    bow.append(word.lemma_)\n",
    "Counter(bow)"
   ]
  },
  {
   "cell_type": "code",
   "execution_count": 17,
   "metadata": {},
   "outputs": [
    {
     "name": "stdout",
     "output_type": "stream",
     "text": [
      "test_id                                                     20\n",
      "question1    How matter at MIT? Will performing poorly in 1...\n",
      "question2    I have passed 5 AP tests with scores trump 5. ...\n",
      "Name: 20, dtype: object\n"
     ]
    }
   ],
   "source": [
    "print(test.loc[20])"
   ]
  },
  {
   "cell_type": "code",
   "execution_count": 24,
   "metadata": {},
   "outputs": [
    {
     "name": "stdout",
     "output_type": "stream",
     "text": [
      "What are some good books to read about Islamic philosophy?\n",
      "what be some good book to read about islamic philosophy ?\n"
     ]
    }
   ],
   "source": [
    "doc = docs[24890]\n",
    "print doc\n",
    "print(' '.join(word.lemma_ for word in doc))"
   ]
  },
  {
   "cell_type": "code",
   "execution_count": 25,
   "metadata": {
    "collapsed": true
   },
   "outputs": [],
   "source": [
    "lemmas = []\n",
    "for idx, doc in enumerate(docs):\n",
    "    lemma = []\n",
    "    for word in doc:\n",
    "        if not word.is_punct: lemma.append(word.lemma_)\n",
    "    lemmas.append(lemma)\n",
    "    if idx == 20: break"
   ]
  },
  {
   "cell_type": "code",
   "execution_count": null,
   "metadata": {
    "collapsed": true
   },
   "outputs": [],
   "source": [
    "print(type(lemmas[0][0]))"
   ]
  },
  {
   "cell_type": "code",
   "execution_count": null,
   "metadata": {
    "collapsed": true
   },
   "outputs": [],
   "source": []
  }
 ],
 "metadata": {
  "kernelspec": {
   "display_name": "Python 2",
   "language": "python",
   "name": "python2"
  },
  "language_info": {
   "codemirror_mode": {
    "name": "ipython",
    "version": 2
   },
   "file_extension": ".py",
   "mimetype": "text/x-python",
   "name": "python",
   "nbconvert_exporter": "python",
   "pygments_lexer": "ipython2",
   "version": "2.7.13"
  }
 },
 "nbformat": 4,
 "nbformat_minor": 2
}
