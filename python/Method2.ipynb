{
 "cells": [
  {
   "cell_type": "markdown",
   "metadata": {},
   "source": [
    "# Imports"
   ]
  },
  {
   "cell_type": "code",
   "execution_count": 4,
   "metadata": {
    "collapsed": true
   },
   "outputs": [],
   "source": [
    "import spacy\n",
    "from spacy.tokens.doc import Doc\n",
    "import pandas as pd\n",
    "from collections import Counter, defaultdict\n",
    "from datetime import datetime\n",
    "from sklearn.naive_bayes import MultinomialNB\n",
    "from sklearn.model_selection import cross_val_score\n",
    "from sklearn.linear_model import LogisticRegression, SGDClassifier\n",
    "from sklearn.svm import SVC\n",
    "from sklearn.discriminant_analysis import LinearDiscriminantAnalysis\n",
    "from sklearn.ensemble import RandomForestClassifier, BaggingClassifier\n",
    "from sklearn.multiclass import OneVsRestClassifier\n",
    "import nltk"
   ]
  },
  {
   "cell_type": "code",
   "execution_count": 5,
   "metadata": {
    "collapsed": true
   },
   "outputs": [],
   "source": [
    "nlp = spacy.load('en')"
   ]
  },
  {
   "cell_type": "code",
   "execution_count": 6,
   "metadata": {
    "collapsed": true
   },
   "outputs": [],
   "source": [
    "test_loc = 'test_dump.bin'\n",
    "train_loc = 'train_dump.bin'"
   ]
  },
  {
   "cell_type": "markdown",
   "metadata": {},
   "source": [
    "# Read data"
   ]
  },
  {
   "cell_type": "code",
   "execution_count": 7,
   "metadata": {},
   "outputs": [
    {
     "name": "stdout",
     "output_type": "stream",
     "text": [
      "(404290, 6) (2345796, 3)\n"
     ]
    }
   ],
   "source": [
    "train = pd.read_csv('../data/train.csv').fillna('')\n",
    "test = pd.read_csv('../data/test.csv').fillna('')\n",
    "print train.shape, test.shape"
   ]
  },
  {
   "cell_type": "code",
   "execution_count": 8,
   "metadata": {
    "collapsed": true
   },
   "outputs": [],
   "source": [
    "target = list(train['is_duplicate'])"
   ]
  },
  {
   "cell_type": "markdown",
   "metadata": {},
   "source": [
    "# Read training data\n",
    "Elements $(2n, 2n+1)$ are the questions for pair $n$"
   ]
  },
  {
   "cell_type": "code",
   "execution_count": 9,
   "metadata": {},
   "outputs": [
    {
     "name": "stdout",
     "output_type": "stream",
     "text": [
      "2017-05-15 10:47:55\n",
      "0 2017-05-15 10:47:55\n",
      "10000 2017-05-15 10:47:58\n",
      "20000 2017-05-15 10:47:59\n",
      "30000 2017-05-15 10:48:00\n",
      "40000 2017-05-15 10:48:00\n",
      "50000 2017-05-15 10:48:01\n",
      "60000 2017-05-15 10:48:02\n",
      "70000 2017-05-15 10:48:03\n",
      "80000 2017-05-15 10:48:04\n",
      "90000 2017-05-15 10:48:05\n",
      "100000 2017-05-15 10:48:05\n",
      "110000 2017-05-15 10:48:06\n",
      "120000 2017-05-15 10:48:07\n",
      "130000 2017-05-15 10:48:08\n",
      "140000 2017-05-15 10:48:09\n",
      "150000 2017-05-15 10:48:10\n",
      "160000 2017-05-15 10:48:11\n",
      "170000 2017-05-15 10:48:11\n",
      "180000 2017-05-15 10:48:12\n",
      "190000 2017-05-15 10:48:13\n",
      "200000 2017-05-15 10:48:14\n",
      "210000 2017-05-15 10:48:15\n",
      "220000 2017-05-15 10:48:15\n",
      "230000 2017-05-15 10:48:16\n",
      "240000 2017-05-15 10:48:17\n",
      "250000 2017-05-15 10:48:18\n",
      "260000 2017-05-15 10:48:19\n",
      "270000 2017-05-15 10:48:19\n",
      "280000 2017-05-15 10:48:20\n",
      "290000 2017-05-15 10:48:21\n",
      "300000 2017-05-15 10:48:22\n",
      "310000 2017-05-15 10:48:22\n",
      "320000 2017-05-15 10:48:23\n",
      "330000 2017-05-15 10:48:24\n",
      "340000 2017-05-15 10:48:25\n",
      "350000 2017-05-15 10:48:26\n",
      "360000 2017-05-15 10:48:26\n",
      "370000 2017-05-15 10:48:27\n",
      "380000 2017-05-15 10:48:29\n",
      "390000 2017-05-15 10:48:30\n",
      "400000 2017-05-15 10:48:31\n",
      "410000 2017-05-15 10:48:32\n",
      "420000 2017-05-15 10:48:33\n",
      "430000 2017-05-15 10:48:34\n",
      "440000 2017-05-15 10:48:35\n",
      "450000 2017-05-15 10:48:36\n",
      "460000 2017-05-15 10:48:37\n",
      "470000 2017-05-15 10:48:38\n",
      "480000 2017-05-15 10:48:38\n",
      "490000 2017-05-15 10:48:39\n",
      "500000 2017-05-15 10:48:40\n",
      "510000 2017-05-15 10:48:41\n",
      "520000 2017-05-15 10:48:42\n",
      "530000 2017-05-15 10:48:43\n",
      "540000 2017-05-15 10:48:44\n",
      "550000 2017-05-15 10:48:44\n",
      "560000 2017-05-15 10:48:45\n",
      "570000 2017-05-15 10:48:46\n",
      "580000 2017-05-15 10:48:47\n",
      "590000 2017-05-15 10:48:47\n",
      "600000 2017-05-15 10:48:48\n",
      "610000 2017-05-15 10:48:49\n",
      "620000 2017-05-15 10:48:50\n",
      "630000 2017-05-15 10:48:50\n",
      "640000 2017-05-15 10:48:51\n",
      "650000 2017-05-15 10:48:52\n",
      "660000 2017-05-15 10:48:53\n",
      "670000 2017-05-15 10:48:54\n",
      "680000 2017-05-15 10:48:55\n",
      "690000 2017-05-15 10:48:56\n",
      "700000 2017-05-15 10:48:56\n",
      "710000 2017-05-15 10:48:57\n",
      "720000 2017-05-15 10:48:58\n",
      "730000 2017-05-15 10:48:59\n",
      "740000 2017-05-15 10:48:59\n",
      "750000 2017-05-15 10:49:00\n",
      "760000 2017-05-15 10:49:01\n",
      "770000 2017-05-15 10:49:02\n",
      "780000 2017-05-15 10:49:02\n",
      "790000 2017-05-15 10:49:03\n",
      "800000 2017-05-15 10:49:04\n",
      "2017-05-15 10:49:05\n",
      "<type 'spacy.tokens.doc.Doc'>\n"
     ]
    }
   ],
   "source": [
    "docs = []\n",
    "i = 0\n",
    "print datetime.now().strftime('%Y-%m-%d %H:%M:%S')\n",
    "with open(train_loc, 'rb') as file_:\n",
    "    for byte_string in Doc.read_bytes(file_):\n",
    "        if i%10000 == 0: print i, datetime.now().strftime('%Y-%m-%d %H:%M:%S')\n",
    "        docs.append(Doc(nlp.vocab).from_bytes(byte_string))\n",
    "        i += 1\n",
    "#         if i == 10: break\n",
    "print datetime.now().strftime('%Y-%m-%d %H:%M:%S')\n",
    "print(type(docs[0]))"
   ]
  },
  {
   "cell_type": "code",
   "execution_count": 10,
   "metadata": {},
   "outputs": [
    {
     "data": {
      "text/plain": [
       "(DNS,)"
      ]
     },
     "execution_count": 10,
     "metadata": {},
     "output_type": "execute_result"
    }
   ],
   "source": [
    "docs[5].ents"
   ]
  },
  {
   "cell_type": "code",
   "execution_count": 11,
   "metadata": {
    "collapsed": true
   },
   "outputs": [],
   "source": [
    "def covertPropn(pos):\n",
    "    if pos == u'PROPN':\n",
    "        return u'NOUN'\n",
    "    else: return pos"
   ]
  },
  {
   "cell_type": "code",
   "execution_count": 294,
   "metadata": {},
   "outputs": [],
   "source": [
    "from nltk.tag import mapping\n",
    "from itertools import product\n",
    "from nltk.corpus import wordnet as wn\n",
    "import numpy as np\n",
    "from nltk.wsd import lesk\n",
    "\n",
    "\n",
    "def sim(s1, s2):\n",
    "#     if (s1, s2) in cache:\n",
    "#         return cache[(s1, s2)]\n",
    "#     else:\n",
    "    try: return wn.wup_similarity(s1, s2)\n",
    "    except Exception as e: \n",
    "        print 'e::', e, s1, s2\n",
    "#     cache[(s1, s2)] = sim \n",
    "    \n",
    "    \n",
    "def leskify(lemma, pos, sentence):\n",
    "#     print lemma, pos\n",
    "    mapping = {'NOUN': 'n', 'ADJ':'a', 'ADV':'r', 'VERB':'v', 'PRON':'n', 'ADP':'p', 'DET':'n'}\n",
    "    m = mapping[pos]\n",
    "    l = lesk(sentence, lemma, m)\n",
    "    return l\n",
    "    \n",
    "def wnSim(w1, w2):\n",
    "    fillin = .5\n",
    "    w1 = set([(word.lemma_, covertPropn(word.pos_)) for word in w1])\n",
    "    w2 = set([(word.lemma_, covertPropn(word.pos_)) for word in w2])\n",
    "    sentence1 = w1 - w2\n",
    "    sentence2 = w2 - w1\n",
    "    sentence = w1 | w2\n",
    "    if len(sentence1) == 0 or len(sentence2) == 0: return fillin\n",
    "    allsyns1 = set(leskify(w[0], w[1], sentence) for w in sentence1)\n",
    "    allsyns1 = set([a for a in allsyns1 if a])\n",
    "#     print sentence1, sentence2\n",
    "#     print 'allsyns:', allsyns1\n",
    "    if len(allsyns1) == 0: return fillin\n",
    "    ysets = [leskify(w[0], w[1], sentence) for w in sentence2]\n",
    "    ysets = [y for y in ysets if y]\n",
    "#     print ysets\n",
    "    maxes = [max((sim(s1, s2) or 0) for s1, s2 in product(allsyns1, [y])) for y in ysets if y]\n",
    "    return np.mean(maxes)"
   ]
  },
  {
   "cell_type": "code",
   "execution_count": 295,
   "metadata": {},
   "outputs": [
    {
     "data": {
      "text/plain": [
       "0.28125"
      ]
     },
     "execution_count": 295,
     "metadata": {},
     "output_type": "execute_result"
    }
   ],
   "source": [
    "d1 = nlp(u\"I ran fast to the store to buy eggs\")\n",
    "d2 = nlp(u'He ran after waffles quickly and happily inside the shop')\n",
    "w1 = [w for w in d1 if not w.is_stop and w.pos is not 95]\n",
    "w2 = [w for w in d2 if not w.is_stop and w.pos is not 95]\n",
    "wnSim(w1, w2)"
   ]
  },
  {
   "cell_type": "code",
   "execution_count": null,
   "metadata": {},
   "outputs": [],
   "source": [
    "def countQuestionPairs(docs):\n",
    "    invalids = [95, 91, 99, 87, 89, 92, 97, 101]\n",
    "    fvs = []\n",
    "    for i in range(0,len(docs),2):\n",
    "        if i % 100000 == 0: print i\n",
    "        fv = defaultdict(int) \n",
    "        d1 = docs[i]\n",
    "        d2 = docs[i+1]\n",
    "\n",
    "        s1 = set(list(str(e) for e in d1.ents))\n",
    "        s2 = set(list(str(e) for e in d2.ents))\n",
    "\n",
    "        sameents = len(s1 & s2)\n",
    "        diffents = len(s1 ^ s2)\n",
    "        fv['sameents'] = sameents\n",
    "        fv['diffents'] = diffents\n",
    "        \n",
    "        w1 = [w for w in d1 if not w.is_stop and w.pos not in invalids]\n",
    "        w2 = [w for w in d2 if not w.is_stop and w.pos not in invalids]\n",
    "        \n",
    "        us1 = set([(covertPropn(word.pos_), word.lemma_) for word in w1])\n",
    "        us2 = set([(covertPropn(word.pos_), word.lemma_) for word in w2])\n",
    "        udiff = us1 ^ us2\n",
    "        usame =  us1 & us2\n",
    "        \n",
    "        usamenum = len(usame)\n",
    "        fv['usamenum'] = usamenum\n",
    "        usame = Counter([t[0] for t in usame])\n",
    "        fv.update(usame)\n",
    "\n",
    "        udiffnum = len(udiff)\n",
    "        fv['udiffnum'] = udiffnum\n",
    "#         if (len(us1) + len(us2)) > 0: \n",
    "#             fv['ujackard'] = usamenum/float(len(us1) + len(us2))\n",
    "        udiff = Counter([t[0] + '_d' for t in udiff])\n",
    "        fv.update(udiff)\n",
    "        fv['wn'] = wnSim(w1, w2)\n",
    "        \n",
    "#         w1 = [w[1] for w in w1]\n",
    "#         w2 = [w[1] for w in w2]\n",
    "#         bs1 = set(nltk.bigrams(w1))\n",
    "#         bs2 = set(nltk.bigrams(w2))\n",
    "#         bsame =  bs1 & bs2\n",
    "#         fv['bsame'] = len(bsame)\n",
    "#         if (len(bs1) + len(bs2)) > 0: \n",
    "#             fv['bjackard'] = len(bsame)/float(len(bs1) + len(bs2)) \n",
    "        \n",
    "#         ts1 = set(nltk.ngrams(w1,3))\n",
    "#         ts2 = set(nltk.ngrams(w2,3))\n",
    "# #         print w1\n",
    "# #         print ts1\n",
    "#         tsame =  ts1 & ts2\n",
    "#         fv['tsame'] = len(tsame)\n",
    "#         if (len(ts1) + len(ts2)) > 0: \n",
    "#             fv['tjackard'] = len(tsame)/float(len(ts1) + len(ts2))\n",
    "#         if i > 100: return fvs\n",
    "#         print fv\n",
    "        fvs.append(fv)\n",
    "    return fvs"
   ]
  },
  {
   "cell_type": "code",
   "execution_count": null,
   "metadata": {},
   "outputs": [],
   "source": [
    "fvs = countQuestionPairs(docs)"
   ]
  },
  {
   "cell_type": "code",
   "execution_count": 215,
   "metadata": {},
   "outputs": [
    {
     "name": "stdout",
     "output_type": "stream",
     "text": [
      "defaultdict(<type 'int'>, {'sameents': 0, 'udiffnum': 1, 'usamenum': 5, 'wn': 0.5, 'diffents': 0, u'VERB': 1, u'NOUN': 4, u'NOUN_d': 1})\n",
      "defaultdict(<type 'int'>, {'sameents': 2, 'udiffnum': 5, 'usamenum': 4, u'ADJ_d': 1, 'wn': 0.24444444444444446, u'VERB_d': 2, 'diffents': 1, u'NOUN': 4, u'NOUN_d': 2})\n",
      "defaultdict(<type 'int'>, {'sameents': 0, u'PRON_d': 1, 'udiffnum': 6, 'usamenum': 2, 'wn': 0.5, u'VERB_d': 1, 'diffents': 2, u'VERB': 1, u'NOUN': 1, u'NOUN_d': 4})\n",
      "defaultdict(<type 'int'>, {'sameents': 0, u'ADV_d': 1, 'udiffnum': 7, 'usamenum': 0, u'ADJ_d': 1, 'wn': 0.26111111111111107, u'VERB_d': 3, 'diffents': 1, u'NOUN_d': 2})\n",
      "defaultdict(<type 'int'>, {'sameents': 0, 'udiffnum': 8, 'usamenum': 2, u'ADJ_d': 1, 'wn': 0.34848484848484851, u'VERB_d': 2, 'diffents': 0, u'NOUN': 2, u'NOUN_d': 5})\n",
      "defaultdict(<type 'int'>, {'sameents': 0, 'udiffnum': 6, 'usamenum': 3, u'ADJ_d': 2, 'wn': 1.0, u'VERB_d': 2, 'diffents': 4, u'NOUN': 3, u'NOUN_d': 2})\n",
      "defaultdict(<type 'int'>, {'sameents': 0, u'ADV_d': 2, 'udiffnum': 9, 'usamenum': 0, u'ADJ_d': 2, 'wn': 0.18041938997821352, u'VERB_d': 2, 'diffents': 0, u'NOUN_d': 3})\n",
      "defaultdict(<type 'int'>, {'sameents': 0, 'udiffnum': 2, 'usamenum': 1, u'ADJ_d': 2, u'NOUN': 1, 'wn': nan, 'diffents': 0})\n",
      "defaultdict(<type 'int'>, {'sameents': 0, u'ADV': 1, u'PRON_d': 1, 'udiffnum': 2, 'usamenum': 2, 'wn': 0.5, 'diffents': 0, u'VERB': 1, u'NOUN_d': 1})\n",
      "defaultdict(<type 'int'>, {'sameents': 1, 'udiffnum': 5, 'usamenum': 3, u'ADJ_d': 1, 'wn': 0.052631578947368418, 'diffents': 1, u'VERB': 1, u'NOUN': 2, u'NOUN_d': 4})\n",
      "defaultdict(<type 'int'>, {'sameents': 0, 'udiffnum': 13, 'usamenum': 0, 'wn': 0.41369768002894941, u'NOUN_d': 11, u'VERB_d': 2, 'diffents': 0})\n",
      "defaultdict(<type 'int'>, {'sameents': 0, 'udiffnum': 2, 'usamenum': 2, 'wn': 0.5, u'NOUN': 2, u'VERB_d': 2, 'diffents': 1})\n",
      "defaultdict(<type 'int'>, {'sameents': 0, u'VERB': 1, u'NOUN': 1, 'usamenum': 3, 'wn': 1.0, 'udiffnum': 0, u'ADJ': 1, 'diffents': 1})\n",
      "defaultdict(<type 'int'>, {'sameents': 1, 'udiffnum': 1, 'usamenum': 2, 'wn': 0.5, 'diffents': 0, u'ADP_d': 1, u'NOUN': 1, u'ADJ': 1})\n",
      "defaultdict(<type 'int'>, {'sameents': 1, u'VERB': 2, u'NOUN': 6, 'usamenum': 9, 'wn': 0.31578947368421051, 'udiffnum': 2, u'NOUN_d': 2, u'ADJ': 1, 'diffents': 2})\n",
      "defaultdict(<type 'int'>, {'sameents': 1, u'ADV_d': 1, 'udiffnum': 10, 'usamenum': 3, u'ADJ_d': 2, 'wn': 0.29285714285714287, u'VERB_d': 3, 'diffents': 1, u'NOUN': 3, u'NOUN_d': 4})\n",
      "defaultdict(<type 'int'>, {'sameents': 0, 'udiffnum': 0, 'usamenum': 2, 'wn': 0.5, 'diffents': 0, u'VERB': 1, u'NOUN': 1})\n",
      "defaultdict(<type 'int'>, {'sameents': 0, 'udiffnum': 3, 'usamenum': 3, 'wn': 0.33333333333333331, u'VERB_d': 2, 'diffents': 0, u'VERB': 1, u'NOUN': 2, u'NOUN_d': 1})\n",
      "defaultdict(<type 'int'>, {'sameents': 2, u'ADV_d': 2, 'udiffnum': 6, 'usamenum': 4, 'wn': 0.31794871794871798, u'VERB_d': 2, 'diffents': 0, u'VERB': 1, u'NOUN': 3, u'NOUN_d': 2})\n",
      "defaultdict(<type 'int'>, {'sameents': 0, 'udiffnum': 4, 'usamenum': 3, 'wn': 0.11764705882352941, 'diffents': 1, u'NOUN': 1, u'ADJ': 2, u'NOUN_d': 4})\n",
      "defaultdict(<type 'int'>, {'sameents': 0, 'udiffnum': 3, 'usamenum': 2, 'wn': 0.25757575757575757, u'VERB_d': 2, 'diffents': 0, u'NOUN': 1, u'ADJ': 1, u'NOUN_d': 1})\n",
      "defaultdict(<type 'int'>, {'sameents': 0, 'udiffnum': 3, 'usamenum': 1, 'wn': 0.40000000000000002, u'VERB_d': 3, u'ADJ': 1, 'diffents': 0})\n",
      "defaultdict(<type 'int'>, {'sameents': 1, 'udiffnum': 0, 'usamenum': 3, 'wn': 0.5, 'diffents': 0, u'VERB': 1, u'NOUN': 2})\n",
      "defaultdict(<type 'int'>, {'sameents': 0, 'udiffnum': 7, 'usamenum': 0, 'wn': 0.39852941176470591, u'NOUN_d': 6, u'VERB_d': 1, 'diffents': 2})\n",
      "defaultdict(<type 'int'>, {'sameents': 0, 'udiffnum': 6, 'usamenum': 2, 'wn': 0.27619047619047615, u'NOUN': 2, u'NOUN_d': 3, u'VERB_d': 3, 'diffents': 0})\n",
      "defaultdict(<type 'int'>, {'sameents': 0, 'udiffnum': 3, 'usamenum': 5, 'wn': 0.76315789473684204, 'diffents': 2, u'VERB': 1, u'NOUN': 4, u'NOUN_d': 3})\n",
      "defaultdict(<type 'int'>, {'sameents': 0, 'udiffnum': 1, 'usamenum': 2, 'wn': 0.5, u'NOUN': 2, u'NOUN_d': 1, 'diffents': 0})\n",
      "defaultdict(<type 'int'>, {'sameents': 0, 'udiffnum': 3, 'usamenum': 2, 'wn': 0.0, u'NOUN': 2, u'NOUN_d': 2, u'VERB_d': 1, 'diffents': 0})\n",
      "defaultdict(<type 'int'>, {'sameents': 0, u'ADV': 1, u'NOUN': 2, 'usamenum': 4, 'wn': 0.5, 'udiffnum': 1, u'VERB_d': 1, u'ADJ': 1, 'diffents': 0})\n",
      "defaultdict(<type 'int'>, {'sameents': 1, u'ADV_d': 1, 'udiffnum': 4, 'usamenum': 2, 'wn': 0.095238095238095233, u'VERB_d': 1, 'diffents': 0, u'VERB': 1, u'ADJ': 1, u'NOUN_d': 2})\n",
      "defaultdict(<type 'int'>, {'sameents': 1, u'ADP_d': 1, u'VERB': 1, u'NOUN': 1, 'usamenum': 3, 'wn': 0.25, 'udiffnum': 3, u'VERB_d': 2, u'ADJ': 1, 'diffents': 0})\n",
      "defaultdict(<type 'int'>, {'sameents': 0, u'VERB': 1, u'NOUN': 2, 'usamenum': 4, u'ADJ_d': 1, 'udiffnum': 2, 'wn': 0.5, u'NOUN_d': 1, u'ADJ': 1, 'diffents': 1})\n",
      "defaultdict(<type 'int'>, {'sameents': 0, 'udiffnum': 2, 'usamenum': 4, u'ADJ_d': 1, u'NOUN': 4, 'wn': 0.0, u'VERB_d': 1, 'diffents': 0})\n",
      "defaultdict(<type 'int'>, {'sameents': 0, 'udiffnum': 13, 'usamenum': 0, u'ADJ_d': 2, 'wn': 0.32408216783216781, u'NOUN_d': 10, u'VERB_d': 1, 'diffents': 2})\n",
      "defaultdict(<type 'int'>, {'sameents': 0, u'NOUN': 2, 'usamenum': 3, 'wn': 0.5, 'diffents': 1, 'udiffnum': 1, u'ADJ': 1, u'NOUN_d': 1})\n",
      "defaultdict(<type 'int'>, {'sameents': 0, u'ADV': 1, 'udiffnum': 5, 'usamenum': 3, 'wn': 0.17142857142857143, u'VERB_d': 2, 'diffents': 1, u'NOUN': 2, u'NOUN_d': 3})\n",
      "defaultdict(<type 'int'>, {'sameents': 0, u'NOUN': 1, 'usamenum': 2, u'ADJ_d': 1, 'wn': 0.51578947368421058, u'VERB_d': 2, 'diffents': 4, 'udiffnum': 7, u'ADJ': 1, u'NOUN_d': 4})\n",
      "defaultdict(<type 'int'>, {'sameents': 0, 'udiffnum': 10, 'usamenum': 3, u'ADJ_d': 2, 'wn': 0.2898148148148148, u'VERB_d': 5, 'diffents': 1, u'VERB': 2, u'NOUN': 1, u'NOUN_d': 3})\n",
      "defaultdict(<type 'int'>, {'sameents': 0, u'VERB': 1, 'udiffnum': 3, 'usamenum': 1, u'ADJ_d': 1, 'wn': 0.0, u'NOUN_d': 2, 'diffents': 1})\n",
      "defaultdict(<type 'int'>, {'sameents': 0, u'ADV_d': 1, 'udiffnum': 10, 'usamenum': 2, u'ADJ_d': 1, 'wn': 0.3451797385620915, u'VERB_d': 1, 'diffents': 0, u'ADP_d': 1, u'NOUN': 2, u'NOUN_d': 6})\n",
      "defaultdict(<type 'int'>, {'sameents': 0, 'udiffnum': 5, 'usamenum': 0, u'ADJ_d': 1, 'wn': 0.24561403508771928, u'NOUN_d': 2, u'VERB_d': 2, 'diffents': 0})\n",
      "defaultdict(<type 'int'>, {'sameents': 0, u'VERB': 1, u'NOUN': 2, 'usamenum': 4, 'wn': 0.5, 'udiffnum': 0, u'ADJ': 1, 'diffents': 0})\n",
      "defaultdict(<type 'int'>, {'sameents': 1, 'udiffnum': 0, 'usamenum': 3, 'wn': 0.5, 'diffents': 2, u'NOUN': 3})\n",
      "defaultdict(<type 'int'>, {'sameents': 0, u'NOUN': 1, 'usamenum': 2, u'ADJ_d': 1, 'wn': 0.0, u'VERB_d': 1, 'diffents': 0, 'udiffnum': 5, u'ADJ': 1, u'NOUN_d': 3})\n",
      "defaultdict(<type 'int'>, {'sameents': 0, u'VERB': 2, u'NOUN': 3, 'usamenum': 6, 'wn': 0.0, 'udiffnum': 3, u'NOUN_d': 3, u'ADJ': 1, 'diffents': 2})\n",
      "defaultdict(<type 'int'>, {'sameents': 1, 'udiffnum': 3, 'usamenum': 3, u'ADJ_d': 1, 'wn': 0.33333333333333331, 'diffents': 0, u'VERB': 1, u'NOUN': 2, u'NOUN_d': 2})\n",
      "defaultdict(<type 'int'>, {'sameents': 0, 'udiffnum': 12, 'usamenum': 0, 'wn': 0.32748538011695905, u'NOUN_d': 11, u'VERB_d': 1, 'diffents': 3})\n",
      "defaultdict(<type 'int'>, {'sameents': 0, u'ADV_d': 1, 'udiffnum': 13, 'usamenum': 0, u'ADJ_d': 2, 'wn': 0.41114718614718615, u'VERB_d': 4, 'diffents': 0, u'NOUN_d': 6})\n",
      "defaultdict(<type 'int'>, {'sameents': 0, u'NOUN': 2, 'usamenum': 3, 'wn': 0.5, 'diffents': 0, 'udiffnum': 1, u'ADJ': 1, u'NOUN_d': 1})\n",
      "defaultdict(<type 'int'>, {'sameents': 0, 'udiffnum': 0, 'usamenum': 1, 'wn': 0.5, 'diffents': 0, u'NOUN': 1})\n",
      "defaultdict(<type 'int'>, {'sameents': 0, u'ADV_d': 1, 'udiffnum': 6, 'usamenum': 4, u'ADJ_d': 2, 'wn': 0.31578947368421051, 'diffents': 2, u'ADP_d': 1, u'NOUN': 4, u'NOUN_d': 2})\n"
     ]
    }
   ],
   "source": [
    "for i, f in enumerate(fvs[:900]):\n",
    "    print f\n",
    "#     print docs[2 *i], docs[2 *i + 1]\n",
    "#     print target[i]"
   ]
  },
  {
   "cell_type": "code",
   "execution_count": 82,
   "metadata": {
    "collapsed": true
   },
   "outputs": [],
   "source": [
    "from sklearn.feature_extraction import DictVectorizer\n",
    "v = DictVectorizer(sparse=False)\n",
    "X = v.fit_transform(fvs)"
   ]
  },
  {
   "cell_type": "code",
   "execution_count": 83,
   "metadata": {},
   "outputs": [
    {
     "name": "stdout",
     "output_type": "stream",
     "text": [
      "RandomForestClassifier(bootstrap=True, class_weight=None, criterion='gini',\n",
      "            max_depth=None, max_features='auto', max_leaf_nodes=None,\n",
      "            min_impurity_split=1e-07, min_samples_leaf=20,\n",
      "            min_samples_split=10, min_weight_fraction_leaf=0.0,\n",
      "            n_estimators=10, n_jobs=-1, oob_score=False, random_state=None,\n",
      "            verbose=0, warm_start=False)\n",
      "Log Loss: -0.50130\n",
      "MultinomialNB(alpha=1.0, class_prior=None, fit_prior=True)\n",
      "Log Loss: -0.92024\n",
      "SGDClassifier(alpha=0.0001, average=False, class_weight=None, epsilon=0.1,\n",
      "       eta0=0.0, fit_intercept=True, l1_ratio=0.15,\n",
      "       learning_rate='optimal', loss='log', n_iter=5, n_jobs=1,\n",
      "       penalty='l2', power_t=0.5, random_state=None, shuffle=True,\n",
      "       verbose=0, warm_start=False)\n",
      "Log Loss: -0.55561\n",
      "LogisticRegression(C=1.0, class_weight=None, dual=False, fit_intercept=True,\n",
      "          intercept_scaling=1, max_iter=100, multi_class='ovr', n_jobs=1,\n",
      "          penalty='l2', random_state=None, solver='liblinear', tol=0.0001,\n",
      "          verbose=0, warm_start=False)\n",
      "Log Loss: -0.54713\n"
     ]
    }
   ],
   "source": [
    "n_estimators = 20\n",
    "clfs = [RandomForestClassifier(min_samples_leaf=20, min_samples_split=10, n_jobs=-1), MultinomialNB(), SGDClassifier(loss='log'), LogisticRegression()]\n",
    "# clfs = [SVC(kernel='linear', probability=True)] \n",
    "\n",
    "for clf in clfs:\n",
    "    print clf\n",
    "    scores = cross_val_score(clf, X, target, cv=3, scoring='neg_log_loss')\n",
    "    print \"Log Loss: %0.5f\" % scores.mean()"
   ]
  },
  {
   "cell_type": "code",
   "execution_count": 78,
   "metadata": {},
   "outputs": [
    {
     "name": "stdout",
     "output_type": "stream",
     "text": [
      "RandomForestClassifier(bootstrap=True, class_weight=None, criterion='gini',\n",
      "            max_depth=None, max_features='auto', max_leaf_nodes=None,\n",
      "            min_impurity_split=1e-07, min_samples_leaf=7,\n",
      "            min_samples_split=30, min_weight_fraction_leaf=0.0,\n",
      "            n_estimators=50, n_jobs=-1, oob_score=False, random_state=None,\n",
      "            verbose=0, warm_start=True)\n",
      "Log Loss: -0.49346\n"
     ]
    }
   ],
   "source": [
    "n_estimators = 20\n",
    "clfs = [RandomForestClassifier(n_estimators= 50, min_samples_leaf=7, min_samples_split=30, n_jobs=-1, warm_start=True)]\n",
    "# clfs = [SVC(kernel='linear', probability=True)] \n",
    "\n",
    "for clf in clfs:\n",
    "    print clf\n",
    "    scores = cross_val_score(clf, X, target, cv=3, scoring='neg_log_loss')\n",
    "    print \"Log Loss: %0.5f\" % scores.mean()"
   ]
  },
  {
   "cell_type": "code",
   "execution_count": 19,
   "metadata": {},
   "outputs": [
    {
     "data": {
      "image/png": "[encoded data removed]",
      "text/plain": [
       "<matplotlib.figure.Figure at 0x175cb5d50>"
      ]
     },
     "metadata": {},
     "output_type": "display_data"
    }
   ],
   "source": [
    "from sklearn.metrics import roc_curve, auc\n",
    "from sklearn.model_selection import train_test_split\n",
    "from sklearn.preprocessing import label_binarize\n",
    "import matplotlib.pyplot as plt\n",
    "from itertools import cycle\n",
    "\n",
    "X_train, X_test, y_train, y_test = train_test_split(X, target, test_size=.2)\n",
    "clfs = clfs = [('RandForest',RandomForestClassifier(min_samples_leaf=20, min_samples_split=10, n_jobs=-1)), ('MNB', MultinomialNB(alpha=1)), ('SGD', SGDClassifier(loss='log')), ('LogReg', LogisticRegression())]\n",
    "colors = cycle(['darkorange','green', 'red', 'blue'])\n",
    "\n",
    "for (clfname, clf), color in zip(clfs, colors):\n",
    "    y_score = zip(*clf.fit(X_train, y_train).predict_proba(X_test))[1]\n",
    "    fpr, tpr, _ = roc_curve(y_test, y_score)\n",
    "    rocauc = auc(fpr, tpr)\n",
    "    lw = 2\n",
    "    plt.plot(fpr, tpr, color=color, lw=lw, label=clfname + ' (area = %0.2f)' % rocauc)\n",
    "    \n",
    "plt.plot([0, 1], [0, 1], color='navy', lw=lw, linestyle='--')\n",
    "plt.xlim([0.0, 1.0])\n",
    "plt.ylim([0.0, 1.05])\n",
    "plt.xlabel('False Positive Rate')\n",
    "plt.ylabel('True Positive Rate')\n",
    "plt.title('ROC Curve - Word Count Method')\n",
    "plt.legend(loc=\"lower right\")\n",
    "plt.savefig(\"roc_wc.pdf\")\n",
    "plt.show()"
   ]
  },
  {
   "cell_type": "markdown",
   "metadata": {},
   "source": [
    "# Read test questions"
   ]
  },
  {
   "cell_type": "code",
   "execution_count": null,
   "metadata": {
    "collapsed": true
   },
   "outputs": [],
   "source": [
    "test_docs = []\n",
    "i = 0\n",
    "with open(test_loc, 'rb') as file_:\n",
    "    for byte_string in Doc.read_bytes(file_):\n",
    "        test_docs.append(Doc(nlp.vocab).from_bytes(byte_string))\n",
    "        i += 1\n",
    "print(type(test_docs[0]))"
   ]
  },
  {
   "cell_type": "code",
   "execution_count": null,
   "metadata": {
    "collapsed": true
   },
   "outputs": [],
   "source": [
    "test_docs[1345288]"
   ]
  },
  {
   "cell_type": "code",
   "execution_count": null,
   "metadata": {
    "collapsed": true
   },
   "outputs": [],
   "source": [
    "test_fvs = countQuestionPairs(test_docs)"
   ]
  }
 ],
 "metadata": {
  "kernelspec": {
   "display_name": "Python 2",
   "language": "python",
   "name": "python2"
  },
  "language_info": {
   "codemirror_mode": {
    "name": "ipython",
    "version": 2
   },
   "file_extension": ".py",
   "mimetype": "text/x-python",
   "name": "python",
   "nbconvert_exporter": "python",
   "pygments_lexer": "ipython2",
   "version": "2.7.13"
  }
 },
 "nbformat": 4,
 "nbformat_minor": 2
}
