{
 "cells": [
  {
   "cell_type": "markdown",
   "metadata": {},
   "source": [
    "# Imports"
   ]
  },
  {
   "cell_type": "code",
   "execution_count": 53,
   "metadata": {
    "collapsed": true
   },
   "outputs": [],
   "source": [
    "import spacy\n",
    "from spacy.tokens.doc import Doc\n",
    "import pandas as pd\n",
    "from collections import Counter, defaultdict\n",
    "from datetime import datetime"
   ]
  },
  {
   "cell_type": "code",
   "execution_count": 8,
   "metadata": {},
   "outputs": [],
   "source": [
    "nlp = spacy.load('en')"
   ]
  },
  {
   "cell_type": "code",
   "execution_count": 9,
   "metadata": {
    "collapsed": true
   },
   "outputs": [],
   "source": [
    "test_loc = 'test_dump.bin'\n",
    "train_loc = 'train_dump.bin'"
   ]
  },
  {
   "cell_type": "markdown",
   "metadata": {},
   "source": [
    "# Read data"
   ]
  },
  {
   "cell_type": "code",
   "execution_count": 7,
   "metadata": {},
   "outputs": [
    {
     "name": "stdout",
     "output_type": "stream",
     "text": [
      "(404290, 6) (2345796, 3)\n"
     ]
    }
   ],
   "source": [
    "train = pd.read_csv('../data/train.csv').fillna('')\n",
    "test = pd.read_csv('../data/test.csv').fillna('')\n",
    "print train.shape, test.shape"
   ]
  },
  {
   "cell_type": "markdown",
   "metadata": {},
   "source": [
    "# Write training questions\n",
    "In the order they appear, not the order of their ids"
   ]
  },
  {
   "cell_type": "code",
   "execution_count": 46,
   "metadata": {
    "collapsed": true
   },
   "outputs": [
    {
     "name": "stdout",
     "output_type": "stream",
     "text": [
      "0 What is the step by step guide to invest in share market?\n",
      "10000 Is it safe for a woman to travel alone in Japan?\n",
      "20000 What triggers you the most when you play video games?\n",
      "30000 Is domino's pizza halal?\n",
      "40000 How should I start learning Python for Data Science?\n",
      "50000 Why is cloning considered unethical?\n",
      "60000 How do you get rid of a virus on an iPhone?\n",
      "70000 What are some teenage cake ideas?\n",
      "80000 How do I recover deleted files on an Android phone or tablet?\n",
      "90000 Which are the best Hollywood movies of 2016?\n",
      "100000 What is the process of getting a surgical residency in UK after completing MBBS from India?\n",
      "110000 How do I become an entrepreneur?\n",
      "120000 How can I become a billionaire?\n",
      "130000 What is it like to grow up in Japan, SIngapore and Hong Kong?\n",
      "140000 Which is a good car in the range of 2-3lacs on Delhi road?\n",
      "150000 How do I grow my hair really fast and easiest way?\n",
      "160000 What are the career options after graduating with a B.A. in philosophy?\n",
      "170000 Is welfare a citizenship right?\n",
      "180000 How do you find a Spiritual Guru?\n",
      "190000 What is the best SEO management company in India?\n",
      "200000 Can Pakistan destroy an Indian aircraft carrier during a war?\n",
      "210000 What does it look like when someone blocks you on badoo?\n",
      "220000 How do I best way to get over an ex?\n",
      "230000 Taking meth through the rectal, is it a better high?\n",
      "240000 What's the evil truth of life?\n",
      "250000 Who would win a war out of the United States and Russia?\n",
      "260000 What is that one incident that changed your life for better?\n",
      "270000 Which movie had the first same-sex kiss?\n",
      "280000 How is the word 'although' used in a sentence?\n",
      "290000 How will abolishing Rs. 500 and Rs. 1000 notes affect the real estate businesses in India?\n",
      "300000 What is the difference between neural circuit and neural system?\n",
      "310000 What is the poorest country in Asia, and how does its death rate compare to the poorest country in Oceania?\n",
      "320000 What is the most technologically advanced credit union in San Francisco?\n",
      "330000 Which teams are likely to win EPL 2016_2017?\n",
      "340000 What if you want to do everything?\n",
      "350000 How can you give dogs Benadryl to calm them down?\n",
      "360000 What does the typical Finnish house look like?\n",
      "370000 Does Israel have a movie industry?\n",
      "380000 How do I compare Albuquerque New Mexico to Phoenix AZ?\n",
      "390000 What should I gift to my girlfriend for Christmas?\n",
      "400000 Can WordPress be used to create a site like Reddit?\n"
     ]
    }
   ],
   "source": [
    "# with open(train_loc, 'wb') as file_:\n",
    "#     for idx, question in enumerate(train_array):\n",
    "#         if idx % 10000 == 0: print(idx, question)\n",
    "#         file_.write(nlp(question.decode('utf-8')).to_bytes())\n",
    "with open(train_loc, 'wb') as file_:\n",
    "    for i in range(len(train)):\n",
    "        f = train.loc[i]\n",
    "        if i % 10000 == 0: print i, f['question2']\n",
    "        file_.write(nlp(f['question1'].decode('utf-8')).to_bytes())\n",
    "        file_.write(nlp(f['question2'].decode('utf-8')).to_bytes())"
   ]
  },
  {
   "cell_type": "markdown",
   "metadata": {},
   "source": [
    "# Read training data\n",
    "Elements $(2n, 2n+1)$ are the questions for pair $n$"
   ]
  },
  {
   "cell_type": "code",
   "execution_count": 10,
   "metadata": {},
   "outputs": [
    {
     "name": "stdout",
     "output_type": "stream",
     "text": [
      "2017-05-14 02:34:48\n",
      "0 2017-05-14 02:34:48\n",
      "10000 2017-05-14 02:34:51\n",
      "20000 2017-05-14 02:34:52\n",
      "30000 2017-05-14 02:34:53\n",
      "40000 2017-05-14 02:34:54\n",
      "50000 2017-05-14 02:34:55\n",
      "60000 2017-05-14 02:34:56\n",
      "70000 2017-05-14 02:34:58\n",
      "80000 2017-05-14 02:34:59\n",
      "90000 2017-05-14 02:35:00\n",
      "100000 2017-05-14 02:35:01\n",
      "110000 2017-05-14 02:35:02\n",
      "120000 2017-05-14 02:35:03\n",
      "130000 2017-05-14 02:35:04\n",
      "140000 2017-05-14 02:35:05\n",
      "150000 2017-05-14 02:35:06\n",
      "160000 2017-05-14 02:35:07\n",
      "170000 2017-05-14 02:35:08\n",
      "180000 2017-05-14 02:35:08\n",
      "190000 2017-05-14 02:35:09\n",
      "200000 2017-05-14 02:35:10\n",
      "210000 2017-05-14 02:35:11\n",
      "220000 2017-05-14 02:35:12\n",
      "230000 2017-05-14 02:35:13\n",
      "240000 2017-05-14 02:35:14\n",
      "250000 2017-05-14 02:35:15\n",
      "260000 2017-05-14 02:35:16\n",
      "270000 2017-05-14 02:35:17\n",
      "280000 2017-05-14 02:35:18\n",
      "290000 2017-05-14 02:35:19\n",
      "300000 2017-05-14 02:35:20\n",
      "310000 2017-05-14 02:35:21\n",
      "320000 2017-05-14 02:35:22\n",
      "330000 2017-05-14 02:35:24\n",
      "340000 2017-05-14 02:35:25\n",
      "350000 2017-05-14 02:35:26\n",
      "360000 2017-05-14 02:35:27\n",
      "370000 2017-05-14 02:35:28\n",
      "380000 2017-05-14 02:35:30\n",
      "390000 2017-05-14 02:35:31\n",
      "400000 2017-05-14 02:35:32\n",
      "410000 2017-05-14 02:35:33\n",
      "420000 2017-05-14 02:35:34\n",
      "430000 2017-05-14 02:35:35\n",
      "440000 2017-05-14 02:35:36\n",
      "450000 2017-05-14 02:35:37\n",
      "460000 2017-05-14 02:35:38\n",
      "470000 2017-05-14 02:35:40\n",
      "480000 2017-05-14 02:35:40\n",
      "490000 2017-05-14 02:35:41\n",
      "500000 2017-05-14 02:35:42\n",
      "510000 2017-05-14 02:35:43\n",
      "520000 2017-05-14 02:35:43\n",
      "530000 2017-05-14 02:35:45\n",
      "540000 2017-05-14 02:35:46\n",
      "550000 2017-05-14 02:35:47\n",
      "560000 2017-05-14 02:35:47\n",
      "570000 2017-05-14 02:35:48\n",
      "580000 2017-05-14 02:35:49\n",
      "590000 2017-05-14 02:35:50\n",
      "600000 2017-05-14 02:35:50\n",
      "610000 2017-05-14 02:35:51\n",
      "620000 2017-05-14 02:35:52\n",
      "630000 2017-05-14 02:35:53\n",
      "640000 2017-05-14 02:35:54\n",
      "650000 2017-05-14 02:35:55\n",
      "660000 2017-05-14 02:35:55\n",
      "670000 2017-05-14 02:35:57\n",
      "680000 2017-05-14 02:35:57\n",
      "690000 2017-05-14 02:35:58\n",
      "700000 2017-05-14 02:35:59\n",
      "710000 2017-05-14 02:36:01\n",
      "720000 2017-05-14 02:36:02\n",
      "730000 2017-05-14 02:36:03\n",
      "740000 2017-05-14 02:36:03\n",
      "750000 2017-05-14 02:36:04\n",
      "760000 2017-05-14 02:36:05\n",
      "770000 2017-05-14 02:36:06\n",
      "780000 2017-05-14 02:36:07\n",
      "790000 2017-05-14 02:36:08\n",
      "800000 2017-05-14 02:36:08\n",
      "2017-05-14 02:36:09\n",
      "<type 'spacy.tokens.doc.Doc'>\n"
     ]
    }
   ],
   "source": [
    "docs = []\n",
    "i = 0\n",
    "print datetime.now().strftime('%Y-%m-%d %H:%M:%S')\n",
    "with open(train_loc, 'rb') as file_:\n",
    "    for byte_string in Doc.read_bytes(file_):\n",
    "        if i%10000 == 0: print i, datetime.now().strftime('%Y-%m-%d %H:%M:%S')\n",
    "        docs.append(Doc(nlp.vocab).from_bytes(byte_string))\n",
    "        i += 1\n",
    "#         if i == 10: break\n",
    "print datetime.now().strftime('%Y-%m-%d %H:%M:%S')\n",
    "print(type(docs[0]))"
   ]
  },
  {
   "cell_type": "code",
   "execution_count": 23,
   "metadata": {},
   "outputs": [
    {
     "name": "stdout",
     "output_type": "stream",
     "text": [
      "[u'I', u'am', u'financially', u'stuck', u'in', u'a', u'half', u'baked', u'relationship', u'.', u'Can', u'someone', u'help', u',', u'how', u'can', u'I', u'get', u'out', u'of', u'this', u'?']\n"
     ]
    }
   ],
   "source": [
    "# print(docs[23986])\n",
    "# for word in docs[23986]:\n",
    "#     print(word.lemma_)\n",
    "    \n",
    "d = docs[23990]\n",
    "print([(word.orth_, word.lemma_ for word in d])\n",
    "# print(Counter([(token.orth_, token.pos_, token.lemma_) for token in d]))"
   ]
  },
  {
   "cell_type": "code",
   "execution_count": 60,
   "metadata": {},
   "outputs": [
    {
     "name": "stdout",
     "output_type": "stream",
     "text": [
      "defaultdict(<type 'int'>, {u'PUNCT': 1, u'VERB': 1, u'NOUN': 4}) 6\n",
      "defaultdict(<type 'int'>, {u'DET': 1, u'VERB': 1, u'PART': 1, u'NOUN': 2, u'ADP': 2}) 7\n",
      "\n",
      "defaultdict(<type 'int'>, {u'PUNCT': 4, u'PROPN': 3}) 7\n",
      "defaultdict(<type 'int'>, {u'ADV': 1, u'NOUN': 4, u'ADP': 1, u'PROPN': 2, u'DET': 2, u'VERB': 3, u'ADJ': 1}) 14\n",
      "\n",
      "defaultdict(<type 'int'>, {u'PUNCT': 1, u'VERB': 1, u'NOUN': 1}) 3\n",
      "defaultdict(<type 'int'>, {u'ADV': 1, u'NOUN': 2, u'ADP': 2, u'PROPN': 2, u'PRON': 1, u'VERB': 3}) 11\n",
      "\n",
      "defaultdict(<type 'int'>, {}) 0\n",
      "defaultdict(<type 'int'>, {u'ADV': 2, u'NOUN': 2, u'ADP': 1, u'DET': 1, u'PUNCT': 3, u'VERB': 4, u'NUM': 1, u'ADJ': 1}) 15\n",
      "\n",
      "defaultdict(<type 'int'>, {u'PUNCT': 1, u'NOUN': 2}) 3\n",
      "defaultdict(<type 'int'>, {u'NOUN': 5, u'ADP': 1, u'PUNCT': 2, u'VERB': 3, u'X': 1, u'ADJ': 2}) 14\n",
      "\n",
      "defaultdict(<type 'int'>, {u'PUNCT': 1, u'PROPN': 1}) 2\n",
      "defaultdict(<type 'int'>, {u'NOUN': 5, u'ADP': 2, u'PRON': 2, u'PROPN': 3, u'DET': 2, u'PUNCT': 5, u'VERB': 3, u'CCONJ': 1, u'ADJ': 2}) 25\n",
      "\n",
      "defaultdict(<type 'int'>, {u'PUNCT': 1}) 1\n",
      "defaultdict(<type 'int'>, {u'ADV': 2, u'NOUN': 4, u'ADP': 1, u'VERB': 2, u'CCONJ': 2, u'ADJ': 2}) 13\n",
      "\n"
     ]
    }
   ],
   "source": [
    "for i in range(0,len(docs),2):\n",
    "    d1 = docs[i]\n",
    "    d2 = docs[i+1]\n",
    "    c = Counter([(word.pos_, word.lemma_) for word in d1 if not word.is_stop])\n",
    "    c.subtract(Counter([(word.pos_, word.lemma_ )for word in d2]))\n",
    "    same = defaultdict(int)\n",
    "    diff = defaultdict(int)\n",
    "    for k, v in [(k[0], 1) for k in c.keys() if c[k] == 0]:\n",
    "        same[k] +=v\n",
    "    samenum = sum(same.values())\n",
    "    print same, samenum\n",
    "\n",
    "# \n",
    "    for k, v in [(k[0], abs(c[k])) for k in c.keys() if abs(c[k]) > 0]:\n",
    "        diff[k] +=v\n",
    "    diffnum = sum(diff.values())\n",
    "    print diff, diffnum\n",
    "\n",
    "    print \n",
    "    if i > 10: break\n",
    "    "
   ]
  },
  {
   "cell_type": "code",
   "execution_count": null,
   "metadata": {
    "collapsed": true
   },
   "outputs": [],
   "source": []
  },
  {
   "cell_type": "markdown",
   "metadata": {},
   "source": [
    "# Write test questions"
   ]
  },
  {
   "cell_type": "code",
   "execution_count": 54,
   "metadata": {},
   "outputs": [
    {
     "ename": "NameError",
     "evalue": "name 'test' is not defined",
     "output_type": "error",
     "traceback": [
      "\u001b[0;31m-----------------------------------------------------------\u001b[0m",
      "\u001b[0;31mNameError\u001b[0m                 Traceback (most recent call last)",
      "\u001b[0;32m<ipython-input-54-45b4f993b7b2>\u001b[0m in \u001b[0;36m<module>\u001b[0;34m()\u001b[0m\n\u001b[0;32m----> 1\u001b[0;31m \u001b[0;32mprint\u001b[0m \u001b[0mlen\u001b[0m\u001b[0;34m(\u001b[0m\u001b[0mtest\u001b[0m\u001b[0;34m)\u001b[0m\u001b[0;34m\u001b[0m\u001b[0m\n\u001b[0m\u001b[1;32m      2\u001b[0m \u001b[0;32mwith\u001b[0m \u001b[0mopen\u001b[0m\u001b[0;34m(\u001b[0m\u001b[0mtest_loc\u001b[0m\u001b[0;34m,\u001b[0m \u001b[0;34m'wb'\u001b[0m\u001b[0;34m)\u001b[0m \u001b[0;32mas\u001b[0m \u001b[0mfile_\u001b[0m\u001b[0;34m:\u001b[0m\u001b[0;34m\u001b[0m\u001b[0m\n\u001b[1;32m      3\u001b[0m     \u001b[0;32mfor\u001b[0m \u001b[0mi\u001b[0m \u001b[0;32min\u001b[0m \u001b[0mrange\u001b[0m\u001b[0;34m(\u001b[0m\u001b[0mlen\u001b[0m\u001b[0;34m(\u001b[0m\u001b[0mtest\u001b[0m\u001b[0;34m)\u001b[0m\u001b[0;34m)\u001b[0m\u001b[0;34m:\u001b[0m\u001b[0;34m\u001b[0m\u001b[0m\n\u001b[1;32m      4\u001b[0m         \u001b[0;32mif\u001b[0m \u001b[0mi\u001b[0m \u001b[0;34m%\u001b[0m \u001b[0;36m10000\u001b[0m \u001b[0;34m==\u001b[0m \u001b[0;36m0\u001b[0m\u001b[0;34m:\u001b[0m \u001b[0;32mprint\u001b[0m \u001b[0mi\u001b[0m\u001b[0;34m\u001b[0m\u001b[0m\n\u001b[1;32m      5\u001b[0m         \u001b[0mf\u001b[0m \u001b[0;34m=\u001b[0m \u001b[0mtest\u001b[0m\u001b[0;34m.\u001b[0m\u001b[0mloc\u001b[0m\u001b[0;34m[\u001b[0m\u001b[0mi\u001b[0m\u001b[0;34m]\u001b[0m\u001b[0;34m\u001b[0m\u001b[0m\n",
      "\u001b[0;31mNameError\u001b[0m: name 'test' is not defined"
     ]
    }
   ],
   "source": [
    "print len(test)\n",
    "with open(test_loc, 'wb') as file_:\n",
    "    for i in range(len(test)):\n",
    "        if i % 10000 == 0: print i\n",
    "        f = test.loc[i]\n",
    "        file_.write(nlp(f['question1'].decode('utf-8')).to_bytes())\n",
    "        file_.write(nlp(f['question2'].decode('utf-8')).to_bytes())"
   ]
  },
  {
   "cell_type": "markdown",
   "metadata": {},
   "source": [
    "# Read test questions"
   ]
  },
  {
   "cell_type": "code",
   "execution_count": 7,
   "metadata": {},
   "outputs": [
    {
     "name": "stdout",
     "output_type": "stream",
     "text": [
      "<type 'spacy.tokens.doc.Doc'>\n"
     ]
    }
   ],
   "source": [
    "test_docs = []\n",
    "i = 0\n",
    "with open(test_loc, 'rb') as file_:\n",
    "    for byte_string in Doc.read_bytes(file_):\n",
    "        test_docs.append(Doc(nlp.vocab).from_bytes(byte_string))\n",
    "        i += 1\n",
    "print(type(test_docs[0]))"
   ]
  },
  {
   "cell_type": "code",
   "execution_count": null,
   "metadata": {},
   "outputs": [],
   "source": [
    "test_docs[1345288]"
   ]
  },
  {
   "cell_type": "code",
   "execution_count": null,
   "metadata": {
    "collapsed": true
   },
   "outputs": [],
   "source": [
    "testloc = 'test_serialize.bin'\n",
    "with open(testloc, 'wb') as file_:\n",
    "    file_.write(nlp(u'This is a document.').to_bytes())\n",
    "    file_.write(nlp(u'This is another.').to_bytes())"
   ]
  },
  {
   "cell_type": "code",
   "execution_count": 7,
   "metadata": {
    "collapsed": true
   },
   "outputs": [],
   "source": [
    "docs = []\n",
    "with open(testloc, 'rb') as file_:\n",
    "    for byte_string in Doc.read_bytes(file_):\n",
    "        docs.append(Doc(nlp.vocab).from_bytes(byte_string))\n",
    "assert len(docs) == 2"
   ]
  },
  {
   "cell_type": "code",
   "execution_count": 8,
   "metadata": {
    "collapsed": true
   },
   "outputs": [],
   "source": [
    "p = docs[0]"
   ]
  },
  {
   "cell_type": "code",
   "execution_count": 12,
   "metadata": {},
   "outputs": [
    {
     "data": {
      "text/plain": [
       "Counter({u'.': 1, u'a': 1, u'be': 1, u'document': 1, u'this': 1})"
      ]
     },
     "execution_count": 12,
     "metadata": {},
     "output_type": "execute_result"
    }
   ],
   "source": [
    "bow = []\n",
    "for word in p:\n",
    "#     if word.is_stop: continue\n",
    "    bow.append(word.lemma_)\n",
    "Counter(bow)"
   ]
  },
  {
   "cell_type": "code",
   "execution_count": 17,
   "metadata": {},
   "outputs": [
    {
     "name": "stdout",
     "output_type": "stream",
     "text": [
      "test_id                                                     20\n",
      "question1    How matter at MIT? Will performing poorly in 1...\n",
      "question2    I have passed 5 AP tests with scores trump 5. ...\n",
      "Name: 20, dtype: object\n"
     ]
    }
   ],
   "source": [
    "print(test.loc[20])"
   ]
  },
  {
   "cell_type": "code",
   "execution_count": 24,
   "metadata": {},
   "outputs": [
    {
     "name": "stdout",
     "output_type": "stream",
     "text": [
      "What are some good books to read about Islamic philosophy?\n",
      "what be some good book to read about islamic philosophy ?\n"
     ]
    }
   ],
   "source": [
    "doc = docs[24890]\n",
    "print doc\n",
    "print(' '.join(word.lemma_ for word in doc))"
   ]
  },
  {
   "cell_type": "code",
   "execution_count": 25,
   "metadata": {
    "collapsed": true
   },
   "outputs": [],
   "source": [
    "lemmas = []\n",
    "for idx, doc in enumerate(docs):\n",
    "    lemma = []\n",
    "    for word in doc:\n",
    "        if not word.is_punct: lemma.append(word.lemma_)\n",
    "    lemmas.append(lemma)\n",
    "    if idx == 20: break"
   ]
  },
  {
   "cell_type": "code",
   "execution_count": null,
   "metadata": {},
   "outputs": [],
   "source": [
    "print(type(lemmas[0][0]))"
   ]
  },
  {
   "cell_type": "code",
   "execution_count": null,
   "metadata": {
    "collapsed": true
   },
   "outputs": [],
   "source": []
  }
 ],
 "metadata": {
  "kernelspec": {
   "display_name": "Python 2",
   "language": "python",
   "name": "python2"
  },
  "language_info": {
   "codemirror_mode": {
    "name": "ipython",
    "version": 2
   },
   "file_extension": ".py",
   "mimetype": "text/x-python",
   "name": "python",
   "nbconvert_exporter": "python",
   "pygments_lexer": "ipython2",
   "version": "2.7.13"
  }
 },
 "nbformat": 4,
 "nbformat_minor": 2
}
