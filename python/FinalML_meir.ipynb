{
 "cells": [
  {
   "cell_type": "markdown",
   "metadata": {},
   "source": [
    "## Combined"
   ]
  },
  {
   "cell_type": "code",
   "execution_count": 1,
   "metadata": {
    "collapsed": true
   },
   "outputs": [],
   "source": [
    "import spacy\n",
    "nlp = spacy.load('en') # this should take some time like 10s to load\n",
    "%load_ext line_profiler"
   ]
  },
  {
   "cell_type": "code",
   "execution_count": 33,
   "metadata": {
    "collapsed": true
   },
   "outputs": [],
   "source": [
    "from collections import Counter, defaultdict\n",
    "from datetime import datetime\n",
    "\n",
    "import numpy as np\n",
    "import scipy as sp\n",
    "from scipy.sparse import coo_matrix, hstack\n",
    "import pandas as pd\n",
    "import nltk\n",
    "from spacy.tokens.doc import Doc\n",
    "\n",
    "from sklearn.naive_bayes import MultinomialNB\n",
    "from sklearn.model_selection import cross_val_score\n",
    "from sklearn.linear_model import LogisticRegression, SGDClassifier\n",
    "from sklearn.discriminant_analysis import LinearDiscriminantAnalysis\n",
    "from sklearn.ensemble import RandomForestClassifier, BaggingClassifier\n",
    "from sklearn.multiclass import OneVsRestClassifier\n",
    "from sklearn.discriminant_analysis import LinearDiscriminantAnalysis\n",
    "from sklearn.feature_extraction import DictVectorizer"
   ]
  },
  {
   "cell_type": "code",
   "execution_count": 5,
   "metadata": {
    "collapsed": true
   },
   "outputs": [],
   "source": [
    "test_loc = 'test_dump.bin'\n",
    "train_loc = 'train_dump.bin'\n",
    "invalids = ['PUNCT', 'X', 'EOL', 'SPACE']"
   ]
  },
  {
   "cell_type": "markdown",
   "metadata": {},
   "source": [
    "## Read Training"
   ]
  },
  {
   "cell_type": "code",
   "execution_count": 4,
   "metadata": {},
   "outputs": [
    {
     "name": "stdout",
     "output_type": "stream",
     "text": [
      "2017-05-16 00:45:05\n",
      "0 2017-05-16 00:45:05\n",
      "10000 2017-05-16 00:45:14\n",
      "20000 2017-05-16 00:45:17\n",
      "30000 2017-05-16 00:45:20\n",
      "40000 2017-05-16 00:45:22\n",
      "50000 2017-05-16 00:45:26\n",
      "60000 2017-05-16 00:45:29\n",
      "70000 2017-05-16 00:45:31\n",
      "80000 2017-05-16 00:45:33\n",
      "90000 2017-05-16 00:45:34\n",
      "100000 2017-05-16 00:45:36\n",
      "110000 2017-05-16 00:45:37\n",
      "120000 2017-05-16 00:45:37\n",
      "130000 2017-05-16 00:45:38\n",
      "140000 2017-05-16 00:45:39\n",
      "150000 2017-05-16 00:45:40\n",
      "160000 2017-05-16 00:45:40\n",
      "170000 2017-05-16 00:45:41\n",
      "180000 2017-05-16 00:45:42\n",
      "190000 2017-05-16 00:45:43\n",
      "200000 2017-05-16 00:45:44\n",
      "210000 2017-05-16 00:45:45\n",
      "220000 2017-05-16 00:45:46\n",
      "230000 2017-05-16 00:45:47\n",
      "240000 2017-05-16 00:45:47\n",
      "250000 2017-05-16 00:45:48\n",
      "260000 2017-05-16 00:45:49\n",
      "270000 2017-05-16 00:45:50\n",
      "280000 2017-05-16 00:45:51\n",
      "290000 2017-05-16 00:45:52\n",
      "300000 2017-05-16 00:45:53\n",
      "310000 2017-05-16 00:45:54\n",
      "320000 2017-05-16 00:45:56\n",
      "330000 2017-05-16 00:45:57\n",
      "340000 2017-05-16 00:45:58\n",
      "350000 2017-05-16 00:45:58\n",
      "360000 2017-05-16 00:45:59\n",
      "370000 2017-05-16 00:46:00\n",
      "380000 2017-05-16 00:46:01\n",
      "390000 2017-05-16 00:46:02\n",
      "400000 2017-05-16 00:46:02\n",
      "410000 2017-05-16 00:46:04\n",
      "420000 2017-05-16 00:46:05\n",
      "430000 2017-05-16 00:46:06\n",
      "440000 2017-05-16 00:46:07\n",
      "450000 2017-05-16 00:46:08\n",
      "460000 2017-05-16 00:46:08\n",
      "470000 2017-05-16 00:46:09\n",
      "480000 2017-05-16 00:46:10\n",
      "490000 2017-05-16 00:46:11\n",
      "500000 2017-05-16 00:46:11\n",
      "510000 2017-05-16 00:46:12\n",
      "520000 2017-05-16 00:46:14\n",
      "530000 2017-05-16 00:46:15\n",
      "540000 2017-05-16 00:46:16\n",
      "550000 2017-05-16 00:46:17\n",
      "560000 2017-05-16 00:46:18\n",
      "570000 2017-05-16 00:46:19\n",
      "580000 2017-05-16 00:46:19\n",
      "590000 2017-05-16 00:46:20\n",
      "600000 2017-05-16 00:46:21\n",
      "610000 2017-05-16 00:46:21\n",
      "620000 2017-05-16 00:46:22\n",
      "630000 2017-05-16 00:46:23\n",
      "640000 2017-05-16 00:46:24\n",
      "650000 2017-05-16 00:46:24\n",
      "660000 2017-05-16 00:46:26\n",
      "670000 2017-05-16 00:46:27\n",
      "680000 2017-05-16 00:46:27\n",
      "690000 2017-05-16 00:46:28\n",
      "700000 2017-05-16 00:46:29\n",
      "710000 2017-05-16 00:46:30\n",
      "720000 2017-05-16 00:46:30\n",
      "730000 2017-05-16 00:46:31\n",
      "740000 2017-05-16 00:46:32\n",
      "750000 2017-05-16 00:46:33\n",
      "760000 2017-05-16 00:46:33\n",
      "770000 2017-05-16 00:46:34\n",
      "780000 2017-05-16 00:46:35\n",
      "790000 2017-05-16 00:46:36\n",
      "800000 2017-05-16 00:46:37\n",
      "2017-05-16 00:46:37\n",
      "<type 'spacy.tokens.doc.Doc'>\n"
     ]
    }
   ],
   "source": [
    "docs = []\n",
    "i = 0\n",
    "print datetime.now().strftime('%Y-%m-%d %H:%M:%S')\n",
    "with open(train_loc, 'rb') as file_:\n",
    "    for byte_string in Doc.read_bytes(file_):\n",
    "        if i%10000 == 0: print i, datetime.now().strftime('%Y-%m-%d %H:%M:%S')\n",
    "        docs.append(Doc(nlp.vocab).from_bytes(byte_string))\n",
    "        i += 1\n",
    "#         if i == 10: break\n",
    "print datetime.now().strftime('%Y-%m-%d %H:%M:%S')\n",
    "print(type(docs[0]))"
   ]
  },
  {
   "cell_type": "code",
   "execution_count": 11,
   "metadata": {
    "collapsed": true
   },
   "outputs": [],
   "source": [
    "train = pd.read_csv('../data/train.csv')\n",
    "# test = pd.read_csv('../data/test.csv')\n",
    "# print train.shape, test.shape\n",
    "target = train['is_duplicate']"
   ]
  },
  {
   "cell_type": "markdown",
   "metadata": {},
   "source": [
    "## Prelims"
   ]
  },
  {
   "cell_type": "code",
   "execution_count": 29,
   "metadata": {
    "collapsed": true
   },
   "outputs": [],
   "source": [
    "def prepareDoc(doc):\n",
    "    return [w.lemma_ for w in doc if not w.is_stop and w.pos not in invalids]"
   ]
  },
  {
   "cell_type": "code",
   "execution_count": 28,
   "metadata": {},
   "outputs": [],
   "source": [
    "unigramCounts = Counter([d for doc in docs for d in prepareDoc(doc)])\n",
    "bigramCounts = Counter([d for doc in docs for d in nltk.bigrams(prepareDoc(doc))])\n",
    "trigramCounts = Counter([d for doc in docs for d in nltk.ngrams(prepareDoc(doc), 3)])"
   ]
  },
  {
   "cell_type": "markdown",
   "metadata": {},
   "source": [
    "## BOW"
   ]
  },
  {
   "cell_type": "code",
   "execution_count": 51,
   "metadata": {
    "collapsed": true
   },
   "outputs": [],
   "source": [
    "def bow(docs):\n",
    "    fvs = []\n",
    "    for i in range(0,len(docs),2):\n",
    "        if i % 100000 == 0: print i\n",
    "        fv = {}\n",
    "        d1 = docs[i]\n",
    "        d2 = docs[i+1]\n",
    "        \n",
    "        w1 = [word.lemma_ for word in d1 if not word.is_stop and word.pos is not 95]\n",
    "        w2 = [word.lemma_  for word in d2 if not word.is_stop and word.pos_ is not 95]\n",
    "        \n",
    "        s1 = set([word.lemma_ for word in d1 if not word.is_stop and word.pos_ is not 95])\n",
    "        s2 = set([word.lemma_  for word in d2 if not word.is_stop and word.pos_ is not 95])\n",
    "        \n",
    "        diff = s1 ^ s2\n",
    "        same =  s1 & s2\n",
    "\n",
    "        same = Counter([w for w in same])\n",
    "        fv.update(same)\n",
    "\n",
    "        diff = Counter([w + '_d' for w in diff])\n",
    "        fv.update(diff)\n",
    "\n",
    "        fvs.append(fv)\n",
    "        \n",
    "    return fvs"
   ]
  },
  {
   "cell_type": "code",
   "execution_count": 52,
   "metadata": {},
   "outputs": [
    {
     "name": "stdout",
     "output_type": "stream",
     "text": [
      "0\n",
      "100000\n",
      "200000\n",
      "300000\n",
      "400000\n",
      "500000\n",
      "600000\n",
      "700000\n",
      "800000\n"
     ]
    }
   ],
   "source": [
    "fvsbow = wordPairs(docs)"
   ]
  },
  {
   "cell_type": "code",
   "execution_count": 23,
   "metadata": {
    "collapsed": true
   },
   "outputs": [],
   "source": [
    "from sklearn.feature_extraction.text import TfidfTransformer\n",
    "v = DictVectorizer()\n",
    "t = TfidfTransformer(smooth_idf=False)"
   ]
  },
  {
   "cell_type": "code",
   "execution_count": 62,
   "metadata": {
    "collapsed": true
   },
   "outputs": [],
   "source": [
    "Xbow = v.fit_transform(fvsbow)\n",
    "# X = t.fit_transform(counts)"
   ]
  },
  {
   "cell_type": "markdown",
   "metadata": {},
   "source": [
    "## Validation"
   ]
  },
  {
   "cell_type": "code",
   "execution_count": 25,
   "metadata": {},
   "outputs": [
    {
     "name": "stdout",
     "output_type": "stream",
     "text": [
      "MultinomialNB(alpha=1, class_prior=None, fit_prior=True)\n",
      "Log Loss: -0.52641\n",
      "SGDClassifier(alpha=0.0001, average=False, class_weight=None, epsilon=0.1,\n",
      "       eta0=0.0, fit_intercept=True, l1_ratio=0.15,\n",
      "       learning_rate='optimal', loss='log', n_iter=5, n_jobs=1,\n",
      "       penalty='l2', power_t=0.5, random_state=None, shuffle=True,\n",
      "       verbose=0, warm_start=False)\n",
      "Log Loss: -0.45891\n",
      "LogisticRegression(C=1.0, class_weight=None, dual=False, fit_intercept=True,\n",
      "          intercept_scaling=1, max_iter=100, multi_class='ovr', n_jobs=1,\n",
      "          penalty='l2', random_state=None, solver='liblinear', tol=0.0001,\n",
      "          verbose=0, warm_start=False)\n",
      "Log Loss: -0.41325\n",
      "RandomForestClassifier(bootstrap=True, class_weight=None, criterion='gini',\n",
      "            max_depth=50, max_features='auto', max_leaf_nodes=None,\n",
      "            min_impurity_split=1e-07, min_samples_leaf=8,\n",
      "            min_samples_split=30, min_weight_fraction_leaf=0.0,\n",
      "            n_estimators=10, n_jobs=-1, oob_score=False, random_state=None,\n",
      "            verbose=0, warm_start=True)\n",
      "Log Loss: -0.61035\n"
     ]
    }
   ],
   "source": [
    "clfs = [MultinomialNB(alpha=1), SGDClassifier(loss='log'), LogisticRegression(), RandomForestClassifier(n_estimators=10, criterion='gini', max_depth=50, min_samples_split=30, min_samples_leaf=8, min_weight_fraction_leaf=0.0, max_features='auto', max_leaf_nodes=None, min_impurity_split=1e-07, bootstrap=True, oob_score=False, n_jobs=-1, warm_start=True, class_weight=None)]\n",
    "n_classes = 2\n",
    "for clf in clfs:\n",
    "    print clf\n",
    "    scores = cross_val_score(clf, X, target, cv=3, scoring='neg_log_loss')\n",
    "    print \"Log Loss: %0.5f\" % scores.mean()"
   ]
  },
  {
   "cell_type": "markdown",
   "metadata": {},
   "source": [
    "### ROC"
   ]
  },
  {
   "cell_type": "code",
   "execution_count": 26,
   "metadata": {},
   "outputs": [
    {
     "data": {
      "image/png": "[encoded data removed]",
      "text/plain": [
       "<matplotlib.figure.Figure at 0x1f9a49550>"
      ]
     },
     "metadata": {},
     "output_type": "display_data"
    }
   ],
   "source": [
    "from sklearn.metrics import roc_curve, auc\n",
    "from sklearn.model_selection import train_test_split\n",
    "from sklearn.preprocessing import label_binarize\n",
    "import matplotlib.pyplot as plt\n",
    "from itertools import cycle\n",
    "\n",
    "X_train, X_test, y_train, y_test = train_test_split(X, target, test_size=.2)\n",
    "clfs = [('MNB', MultinomialNB(alpha=1)), ('SGD', SGDClassifier(loss='log')), ('LogReg', LogisticRegression()), ('RandForest', RandomForestClassifier(n_estimators=10, criterion='gini', max_depth=50, min_samples_split=30, min_samples_leaf=8))]\n",
    "\n",
    "colors = cycle(['cyan', 'darkorange','indigo', 'seagreen', 'blue', ])\n",
    "\n",
    "for (clfname, clf), color in zip(clfs, colors):\n",
    "    y_score = zip(*clf.fit(X_train, y_train).predict_proba(X_test))[1]\n",
    "    fpr, tpr, _ = roc_curve(y_test, y_score)\n",
    "    rocauc = auc(fpr, tpr)\n",
    "    lw = 2\n",
    "    plt.plot(fpr, tpr, color=color, lw=lw, label=clfname + ' (area = %0.2f)' % rocauc)\n",
    "    \n",
    "plt.plot([0, 1], [0, 1], color='navy', lw=lw, linestyle='--')\n",
    "plt.xlim([0.0, 1.0])\n",
    "plt.ylim([0.0, 1.05])\n",
    "plt.xlabel('False Positive Rate')\n",
    "plt.ylabel('True Positive Rate')\n",
    "plt.title('ROC Curve - BOW Method')\n",
    "plt.legend(loc=\"lower right\")\n",
    "plt.savefig(\"roc.pdf\")\n",
    "plt.show()"
   ]
  },
  {
   "cell_type": "markdown",
   "metadata": {},
   "source": [
    "## WC"
   ]
  },
  {
   "cell_type": "markdown",
   "metadata": {},
   "source": [
    "### Helper Functions"
   ]
  },
  {
   "cell_type": "code",
   "execution_count": 36,
   "metadata": {
    "collapsed": true
   },
   "outputs": [],
   "source": [
    "def tfidf(w, corpus):\n",
    "    if w in corpus and corpus[w] is not 0: return 1/float(corpus[w])\n",
    "    else: return 0\n",
    "def getOverlaps(sentence1, sentence2):\n",
    "    s1 = set(sentence1)\n",
    "    s2 = set(sentence2)\n",
    "    return s1 & s2, s1 ^ s2, s1 | s2\n",
    "def tupleCounter(l):\n",
    "    d = defaultdict(int) \n",
    "    for t in l:\n",
    "        d[t[0]] += t[1]\n",
    "    return d\n",
    "def covertPropn(pos):\n",
    "#     if pos == u'PROPN' or pos == u'PRON':\n",
    "#         return u'NOUN'\n",
    "#     if pos == u'ADP': return u'ADV'\n",
    "#     else: return pos\n",
    "    return pos"
   ]
  },
  {
   "cell_type": "code",
   "execution_count": 37,
   "metadata": {
    "collapsed": true
   },
   "outputs": [],
   "source": [
    "def countQuestionPairs(docs):\n",
    "    \n",
    "    fvs = []\n",
    "    for i in range(0,len(docs),2):\n",
    "        if i % 100000 == 0: print i\n",
    "        fv = defaultdict(int) \n",
    "        d1 = docs[i]\n",
    "        d2 = docs[i+1]\n",
    "\n",
    "        s1 = set(list(str(e).lower() for e in d1.ents))\n",
    "        s2 = set(list(str(e).lower() for e in d2.ents))\n",
    "        \n",
    "        w1 = [w for w in d1 if not w.is_stop and w.pos not in invalids]\n",
    "        w2 = [w for w in d2 if not w.is_stop and w.pos not in invalids]\n",
    "        \n",
    "        p1 = [(covertPropn(word.pos_), word.lemma_) for word in w1]\n",
    "        p2 = [(covertPropn(word.pos_), word.lemma_) for word in w2]\n",
    "        \n",
    "        u1 = [word.lemma_ for word in w1]\n",
    "        u2 = [word.lemma_ for word in w2]\n",
    "        \n",
    "        total = float(len(u1) + len(u2))\n",
    "        sameents = s1 & s2\n",
    "        diffents = s1 ^ s2\n",
    "        if len(sameents) > 0:\n",
    "            fv['sameents'] = np.sum([tfidf(w, unigramCounts) for w in sameents])\n",
    "        if len(diffents) > 0:\n",
    "            fv['diffents'] = np.sum([tfidf(w, unigramCounts) for w in diffents])\n",
    "        \n",
    "        psame, pdiff, ptotal = getOverlaps(p1, p2)\n",
    "        usame, udiff, utotal = getOverlaps(u1, u2)\n",
    "        bsame, bdiff, btotal = getOverlaps(nltk.bigrams(u1), nltk.bigrams(u2))        \n",
    "        tsame, tdiff, ttotal = getOverlaps(nltk.ngrams(u1,3),nltk.ngrams(u2,3))\n",
    "#         fv['total'] = total\n",
    "        fv['usame'] = len(usame)\n",
    "        fv['udiff'] = len(udiff)\n",
    "        if len(usame) > 0:\n",
    "            fv['weightedsame'] =  np.sum([tfidf(w, unigramCounts) for w in usame])\n",
    "        if len(udiff) > 0:\n",
    "            fv['weighteddiff'] =  np.sum([tfidf(w, unigramCounts) for w in udiff])\n",
    "\n",
    "        fv.update((tupleCounter([(t[0], tfidf(t[1], unigramCounts)) for t in psame])))\n",
    "        fv.update((tupleCounter([(t[0] + '_d', tfidf(t[1], unigramCounts)) for t in pdiff])))     \n",
    "        fv['bsame'] = np.sum([tfidf(w, bigramCounts) for w in bsame])\n",
    "        fv['tsame'] = np.sum([tfidf(w, trigramCounts) for w in tsame])\n",
    "\n",
    "#         fv['wn'] = wnSim(w1, w2)\n",
    "#         if i > 100: return fvs\n",
    "#         print fv\n",
    "        fvs.append(fv)\n",
    "    return fvs"
   ]
  },
  {
   "cell_type": "code",
   "execution_count": 38,
   "metadata": {},
   "outputs": [
    {
     "name": "stdout",
     "output_type": "stream",
     "text": [
      "0\n",
      "100000\n",
      "200000\n",
      "300000\n",
      "400000\n",
      "500000\n",
      "600000\n",
      "700000\n",
      "800000\n"
     ]
    }
   ],
   "source": [
    "fvswc = countQuestionPairs(docs)"
   ]
  },
  {
   "cell_type": "code",
   "execution_count": 40,
   "metadata": {},
   "outputs": [],
   "source": [
    "for i, fv in enumerate(fvsbow):\n",
    "    fv.update(fvswc[i])\n",
    "print fvs[0]"
   ]
  },
  {
   "cell_type": "code",
   "execution_count": 60,
   "metadata": {},
   "outputs": [
    {
     "name": "stdout",
     "output_type": "stream",
     "text": [
      "({u'step': 1, u'market': 1, u'invest': 1, u'share': 1, u'guide': 1, u'?': 1, u'india_d': 1}, defaultdict(<type 'int'>, {'weightedsame': 0.0044260330071201216, u'VERB': 0.00043956043956043956, u'NOUN': 0.003985298904098291, 'usame': 6, 'weighteddiff': 3.3859280828875192e-05, u'PUNCT': 1.1736634613917536e-06, 'udiff': 1, 'tsame': 1.1312500000000001, 'bsame': 0.44871883856787548, u'NOUN_d': 3.385928082887519e-05}))\n"
     ]
    }
   ],
   "source": [
    "print fvstuples[0]"
   ]
  },
  {
   "cell_type": "code",
   "execution_count": 41,
   "metadata": {
    "collapsed": true
   },
   "outputs": [],
   "source": [
    "v = DictVectorizer()\n",
    "t = TfidfTransformer(smooth_idf=False)"
   ]
  },
  {
   "cell_type": "code",
   "execution_count": 61,
   "metadata": {
    "collapsed": true
   },
   "outputs": [],
   "source": [
    "Xwc = v.fit_transform(fvswc)"
   ]
  },
  {
   "cell_type": "code",
   "execution_count": 49,
   "metadata": {},
   "outputs": [
    {
     "name": "stdout",
     "output_type": "stream",
     "text": [
      "Log Loss: -0.40193\n"
     ]
    }
   ],
   "source": [
    "clf = LogisticRegression(C=.5, n_jobs = -1, warm_start=True)\n",
    "scores = cross_val_score(clf, Xwc, target, cv=3, scoring='neg_log_loss')\n",
    "print \"Log Loss: %0.5f\" % scores.mean()"
   ]
  },
  {
   "cell_type": "code",
   "execution_count": 43,
   "metadata": {},
   "outputs": [
    {
     "name": "stdout",
     "output_type": "stream",
     "text": [
      "MultinomialNB(alpha=1, class_prior=None, fit_prior=True)\n",
      "Log Loss: -0.70666\n",
      "SGDClassifier(alpha=0.0001, average=False, class_weight=None, epsilon=0.1,\n",
      "       eta0=0.0, fit_intercept=True, l1_ratio=0.15,\n",
      "       learning_rate='optimal', loss='log', n_iter=5, n_jobs=1,\n",
      "       penalty='l2', power_t=0.5, random_state=None, shuffle=True,\n",
      "       verbose=0, warm_start=False)\n",
      "Log Loss: -0.44243\n",
      "LogisticRegression(C=1.0, class_weight=None, dual=False, fit_intercept=True,\n",
      "          intercept_scaling=1, max_iter=100, multi_class='ovr', n_jobs=1,\n",
      "          penalty='l2', random_state=None, solver='liblinear', tol=0.0001,\n",
      "          verbose=0, warm_start=False)\n",
      "Log Loss: -0.40113\n",
      "RandomForestClassifier(bootstrap=True, class_weight=None, criterion='gini',\n",
      "            max_depth=50, max_features='auto', max_leaf_nodes=None,\n",
      "            min_impurity_split=1e-07, min_samples_leaf=8,\n",
      "            min_samples_split=30, min_weight_fraction_leaf=0.0,\n",
      "            n_estimators=10, n_jobs=-1, oob_score=False, random_state=None,\n",
      "            verbose=0, warm_start=True)\n",
      "Log Loss: -0.54030\n"
     ]
    }
   ],
   "source": [
    "clfs = [MultinomialNB(alpha=1), SGDClassifier(loss='log'), LogisticRegression(), RandomForestClassifier(n_estimators=10, criterion='gini', max_depth=50, min_samples_split=30, min_samples_leaf=8, min_weight_fraction_leaf=0.0, max_features='auto', max_leaf_nodes=None, min_impurity_split=1e-07, bootstrap=True, oob_score=False, n_jobs=-1, warm_start=True, class_weight=None)]\n",
    "n_classes = 2\n",
    "for clf in clfs:\n",
    "    print clf\n",
    "    scores = cross_val_score(clf, Xwc, target, cv=3, scoring='neg_log_loss')\n",
    "    print \"Log Loss: %0.5f\" % scores.mean()"
   ]
  },
  {
   "cell_type": "code",
   "execution_count": null,
   "metadata": {
    "collapsed": true
   },
   "outputs": [],
   "source": [
    "## MANUAL CROSS VAL\n",
    "## two vecorizers, two methods, average\n",
    "## reproduce key attributes from chart by extracting test data from training set.\n",
    "## cite this paper"
   ]
  },
  {
   "cell_type": "code",
   "execution_count": 68,
   "metadata": {},
   "outputs": [
    {
     "data": {
      "text/plain": [
       "<1x40 sparse matrix of type '<type 'numpy.float64'>'\n",
       "\twith 10 stored elements in Compressed Sparse Row format>"
      ]
     },
     "execution_count": 68,
     "metadata": {},
     "output_type": "execute_result"
    }
   ],
   "source": [
    "Xwc[0]"
   ]
  },
  {
   "cell_type": "code",
   "execution_count": 69,
   "metadata": {},
   "outputs": [
    {
     "data": {
      "text/plain": [
       "<1x112961 sparse matrix of type '<type 'numpy.float64'>'\n",
       "\twith 7 stored elements in Compressed Sparse Row format>"
      ]
     },
     "execution_count": 69,
     "metadata": {},
     "output_type": "execute_result"
    }
   ],
   "source": [
    "Xbow[0]"
   ]
  },
  {
   "cell_type": "code",
   "execution_count": null,
   "metadata": {},
   "outputs": [
    {
     "name": "stdout",
     "output_type": "stream",
     "text": [
      "fitting logreg fold: 1\n",
      "fitting randfor fold: 1\n"
     ]
    }
   ],
   "source": [
    "import numpy as np\n",
    "from sklearn.model_selection import KFold\n",
    "from sklearn.metrics import log_loss\n",
    "\n",
    "log_losses = []\n",
    "fold = 0\n",
    "\n",
    "kf = KFold(n_splits=3)\n",
    "for train_index, test_index in kf.split(Xbow):\n",
    "    fold +=1\n",
    "    lr = LogisticRegression()\n",
    "    rf = RandomForestClassifier(n_estimators= 50, min_samples_leaf=1, min_samples_split=8, n_jobs=-1)\n",
    "    print 'fitting logreg', 'fold:', fold\n",
    "    lr.fit(Xbow[train_index], target[train_index])\n",
    "    print 'fitting randfor', 'fold:', fold\n",
    "    rf.fit(Xwc[train_index], target[train_index])\n",
    "    predictions = np.mean(np.array([lr.predict_proba(Xbow[test_index]), rf.predict_proba(Xwc[test_index])]), 0)\n",
    "    ll = log_loss(target[test_index], predictions)\n",
    "    log_losses.append(ll)\n",
    "    print ll\n",
    "    \n",
    "print np.mean(log_losses)"
   ]
  },
  {
   "cell_type": "code",
   "execution_count": null,
   "metadata": {
    "collapsed": true
   },
   "outputs": [],
   "source": []
  }
 ],
 "metadata": {
  "kernelspec": {
   "display_name": "Python 2",
   "language": "python",
   "name": "python2"
  },
  "language_info": {
   "codemirror_mode": {
    "name": "ipython",
    "version": 2
   },
   "file_extension": ".py",
   "mimetype": "text/x-python",
   "name": "python",
   "nbconvert_exporter": "python",
   "pygments_lexer": "ipython2",
   "version": "2.7.13"
  }
 },
 "nbformat": 4,
 "nbformat_minor": 2
}
