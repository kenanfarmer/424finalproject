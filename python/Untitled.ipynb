{
 "cells": [
  {
   "cell_type": "code",
   "execution_count": 2,
   "metadata": {
    "collapsed": true
   },
   "outputs": [],
   "source": [
    "import spacy\n",
    "from spacy.tokens.doc import Doc\n",
    "import pandas as pd\n",
    "from collections import Counter"
   ]
  },
  {
   "cell_type": "code",
   "execution_count": 3,
   "metadata": {
    "collapsed": true
   },
   "outputs": [],
   "source": [
    "nlp = spacy.load('en')"
   ]
  },
  {
   "cell_type": "code",
   "execution_count": 5,
   "metadata": {
    "collapsed": false
   },
   "outputs": [
    {
     "name": "stdout",
     "output_type": "stream",
     "text": [
      "<type 'spacy.tokens.doc.Doc'>\n"
     ]
    }
   ],
   "source": [
    "loc = 'train_dump.bin'\n",
    "docs = []\n",
    "i = 0\n",
    "with open(loc, 'rb') as file_:\n",
    "    for byte_string in Doc.read_bytes(file_):\n",
    "        docs.append(Doc(nlp.vocab).from_bytes(byte_string))\n",
    "        i += 1\n",
    "        if i == 100000: break\n",
    "print(type(docs[0]))"
   ]
  },
  {
   "cell_type": "code",
   "execution_count": 38,
   "metadata": {
    "collapsed": false
   },
   "outputs": [
    {
     "name": "stdout",
     "output_type": "stream",
     "text": [
      "[What is the difficulty level and syllabus of the BITSAT bonus questions?, What is the difficulty level of BITSAT bonus questions?, What makes us good human?, What makes us a good human being?, If everything is consciousness, is everything conscious?, Is consciousness always consciousness of something?, How do I can hack wifi?, Can I hack Wi-Fi?, What is the fastest Internet speed in India?, What is the maximum internet speed in India?, Which outlaw motorcycle clubs accept Jews?, What is the ranking structure in a motorcycle club?, What are the most popular names in The Sims?, What is the most popular name?, How can I lose 10 Kilos?, What are the best was to lose weight?, How hard is it to practice water polo compared to aquajogging?, How hard is it to practice water polo compared to kiteboating?, What would be the effect of towing our nuclear waste into the middle of the ocean and sinking it into one of the deeper trenches?, If a nuclear reactor dropped in the ocean does practically nothing to harm the environment, why not just dump all radioactive waste in the ocean?, Where can I buy special flavor cupcake at Gold Coast?, Where can I found different cupcake flavors in Gold Coast?, When is surge pricing on Uber generally in effect in Kitchener, ON and how high does it go?, When is surge pricing on Uber generally in effect in Indianapolis and how high does it go?, Should I buy the Dell U2415 monitor or U2417H?, Why should I only buy a Dell computer?, Will the HTC 816g get a Lollipop update?, Can the HTC 820 and 820S get Lollipop updates?, What is Africa standpoint on trade and protection?, What is the impact of the Arab slave trade on Africa?, What is Facebook built with?, How was Facebook built?, In a ticket booked for one couple, if one passenger gets a confirmed berth, and the other is still waitlisted after chart preparation, can the waitlisted passenger board the train?, Is it okay to book a ticket with a different station as the departure point and board the train from a different one?, Why do metals appear to feel colder than other stuff like wood or plastic?, Why do we feel that some materials are colder than others?, Does it matter where I do my masters?, Does it matter where I get my Masters?, Which are some of the best movies of 2016?, What is the best latest movie?, What is the analog of insulin receptors/signalling in yeast?, How do I make rice yeast at home?, How does a precision rectifier work?, Why we use precision rectifier?, Should I do a MBA or a PHD after a degree in engineering?, What are the PhD options in US after MBA?, How can I make 1 million dollars with none to start?, How did you make your first million dollars?, What is the difference between digital and software consulting?, What are the steps to start a software consulting firm?, Was the Black Panther Party successful? Why or why not?, What was the Black Panther Party?, What is the suffix of the word 'predatory'?, Why do people with terrible depression continue living?, What is a way to make money online?, What is an easy way make money online?, When & how did Switzerland become so rich?, How did the Switzerland become rich being a landlocked country?, What do Americans think when they realize that the US is currently bombing 7 countries?, How do I mention that I am an engineering college dropout in my CV?]\n"
     ]
    }
   ],
   "source": [
    "print docs[11448:11508]"
   ]
  },
  {
   "cell_type": "markdown",
   "metadata": {},
   "source": [
    "### "
   ]
  }
 ],
 "metadata": {
  "kernelspec": {
   "display_name": "Python 2",
   "language": "python",
   "name": "python2"
  },
  "language_info": {
   "codemirror_mode": {
    "name": "ipython",
    "version": 2
   },
   "file_extension": ".py",
   "mimetype": "text/x-python",
   "name": "python",
   "nbconvert_exporter": "python",
   "pygments_lexer": "ipython2",
   "version": "2.7.13"
  }
 },
 "nbformat": 4,
 "nbformat_minor": 2
}
