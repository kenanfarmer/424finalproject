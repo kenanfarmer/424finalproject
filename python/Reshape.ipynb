{
 "cells": [
  {
   "cell_type": "code",
   "execution_count": 2,
   "metadata": {
    "collapsed": true,
    "deletable": true,
    "editable": true
   },
   "outputs": [],
   "source": [
    "import numpy as np\n",
    "import pandas as pd\n",
    "\n",
    "X = pd.read_csv('features.csv').as_matrix()"
   ]
  },
  {
   "cell_type": "code",
   "execution_count": 3,
   "metadata": {
    "collapsed": false,
    "deletable": true,
    "editable": true
   },
   "outputs": [],
   "source": [
    "a = X[:,[1,3]]"
   ]
  },
  {
   "cell_type": "code",
   "execution_count": 55,
   "metadata": {
    "collapsed": false,
    "deletable": true,
    "editable": true
   },
   "outputs": [],
   "source": [
    "b = np.zeros((404290,300))\n",
    "b[0] = X[0,2][1:-1].split()\n",
    "b[1] = X[1,2][1:-1].split()\n",
    "for i in range(X.shape[0]):\n",
    "    b[i] = X[i,2][1:-1].split()"
   ]
  },
  {
   "cell_type": "code",
   "execution_count": 62,
   "metadata": {
    "collapsed": false,
    "deletable": true,
    "editable": true
   },
   "outputs": [
    {
     "data": {
      "text/plain": [
       "(404290, 2)"
      ]
     },
     "execution_count": 62,
     "metadata": {},
     "output_type": "execute_result"
    }
   ],
   "source": [
    "a.shape"
   ]
  },
  {
   "cell_type": "code",
   "execution_count": 65,
   "metadata": {
    "collapsed": false,
    "deletable": true,
    "editable": true
   },
   "outputs": [],
   "source": [
    "c = np.hstack((a,b))"
   ]
  },
  {
   "cell_type": "code",
   "execution_count": 66,
   "metadata": {
    "collapsed": false,
    "deletable": true,
    "editable": true
   },
   "outputs": [
    {
     "data": {
      "text/plain": [
       "(404290, 302)"
      ]
     },
     "execution_count": 66,
     "metadata": {},
     "output_type": "execute_result"
    }
   ],
   "source": [
    "c.shape"
   ]
  },
  {
   "cell_type": "code",
   "execution_count": 67,
   "metadata": {
    "collapsed": true,
    "deletable": true,
    "editable": true
   },
   "outputs": [],
   "source": [
    "np.savetxt('featz.csv',c,delimiter=',')"
   ]
  },
  {
   "cell_type": "markdown",
   "metadata": {
    "collapsed": true,
    "deletable": true,
    "editable": true
   },
   "source": [
    "# COMBINE useful features"
   ]
  },
  {
   "cell_type": "code",
   "execution_count": 1,
   "metadata": {
    "collapsed": true,
    "deletable": true,
    "editable": true
   },
   "outputs": [],
   "source": [
    "import numpy as np\n",
    "import pandas as pd\n",
    "\n",
    "inf_ = np.inf\n",
    "maxt_ = 5000.0"
   ]
  },
  {
   "cell_type": "code",
   "execution_count": 2,
   "metadata": {
    "collapsed": true,
    "deletable": true,
    "editable": true
   },
   "outputs": [],
   "source": [
    "X_5 = pd.read_csv('featz.csv', header=None)"
   ]
  },
  {
   "cell_type": "code",
   "execution_count": 3,
   "metadata": {
    "collapsed": false,
    "deletable": true,
    "editable": true
   },
   "outputs": [
    {
     "name": "stdout",
     "output_type": "stream",
     "text": [
      "(404290, 1) (404290, 1) (404290, 1) (404290, 1) (404290, 2) (404290, 4)\n"
     ]
    }
   ],
   "source": [
    "X_1 = pd.read_csv('entwmd.csv', index_col = 0).as_matrix()\n",
    "X_2 = pd.read_csv('vnwmd.csv',index_col = 0).as_matrix()\n",
    "X_3 = pd.read_csv('kfwmd.csv', index_col = 0).as_matrix()\n",
    "X_4 = pd.read_csv('unqwmd.csv', index_col = 0).as_matrix()\n",
    "X_6 = pd.read_csv('pos_wmd.csv', index_col = 0).as_matrix()\n",
    "\n",
    "print X_1.shape, X_2.shape, X_3.shape, X_4.shape, X_5.as_matrix()[:,:2].shape, X_6.shape\n",
    "X = np.hstack([X_1,X_2,X_3,X_4,X_6])\n",
    "X.shape\n",
    "X = np.hstack([X, X_5.as_matrix()[:,:2]])"
   ]
  },
  {
   "cell_type": "code",
   "execution_count": 6,
   "metadata": {
    "collapsed": false,
    "deletable": true,
    "editable": true
   },
   "outputs": [
    {
     "data": {
      "text/plain": [
       "array([[   0.        ,    0.        ,    5.66051006, ...,    0.        ,\n",
       "           1.00000009,    2.58744273],\n",
       "       [   0.        ,    0.        ,   34.40773058, ...,    0.        ,\n",
       "           0.64379632,   10.53976375],\n",
       "       [   0.        ,    0.        ,   24.23286009, ...,           inf,\n",
       "           0.89861397,    9.05921031],\n",
       "       ..., \n",
       "       [   6.79907274,    0.        ,    6.79907274, ...,    0.        ,\n",
       "           0.88530959,    9.43328094],\n",
       "       [   6.95427942,    0.        ,  117.03923559, ...,           inf,\n",
       "           0.50529388,   16.92088194],\n",
       "       [   0.        ,    0.        ,    0.        , ...,    0.        ,\n",
       "           1.00000002,    0.        ]])"
      ]
     },
     "execution_count": 6,
     "metadata": {},
     "output_type": "execute_result"
    }
   ],
   "source": [
    "X"
   ]
  },
  {
   "cell_type": "code",
   "execution_count": 7,
   "metadata": {
    "collapsed": true,
    "deletable": true,
    "editable": true
   },
   "outputs": [],
   "source": [
    "np.savetxt('features.csv', X, delimiter=',')"
   ]
  },
  {
   "cell_type": "code",
   "execution_count": null,
   "metadata": {
    "collapsed": true
   },
   "outputs": [],
   "source": []
  }
 ],
 "metadata": {
  "kernelspec": {
   "display_name": "Python 2",
   "language": "python",
   "name": "python2"
  },
  "language_info": {
   "codemirror_mode": {
    "name": "ipython",
    "version": 2
   },
   "file_extension": ".py",
   "mimetype": "text/x-python",
   "name": "python",
   "nbconvert_exporter": "python",
   "pygments_lexer": "ipython2",
   "version": "2.7.12"
  }
 },
 "nbformat": 4,
 "nbformat_minor": 2
}
